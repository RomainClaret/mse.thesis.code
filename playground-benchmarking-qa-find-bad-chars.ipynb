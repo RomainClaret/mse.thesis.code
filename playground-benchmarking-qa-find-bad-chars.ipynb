{
 "cells": [
  {
   "cell_type": "code",
   "execution_count": 3,
   "metadata": {},
   "outputs": [],
   "source": [
    "import pandas as pd\n",
    "import json\n",
    "import tmqa3 as tmqa"
   ]
  },
  {
   "cell_type": "code",
   "execution_count": 4,
   "metadata": {},
   "outputs": [],
   "source": [
    "conversations_path = \"/data/users/romain.claret/tm/mse.tm.chatbot.base/data/convex/test_set/test_set_ALL.json\"\n",
    "with open(conversations_path, \"r\") as data:\n",
    "    conversations = json.load(data)"
   ]
  },
  {
   "cell_type": "code",
   "execution_count": null,
   "metadata": {},
   "outputs": [
    {
     "name": "stdout",
     "output_type": "stream",
     "text": [
      "\n",
      " 0/2240 New conversation\n",
      "0/5 What is the name of the writer of The Secret Garden?\n",
      "What is the name of the writer of The Secret Garden \n",
      "1/5 Where does the story take place?\n",
      "Where does the story take place \n",
      "2/5 When was the book published?\n",
      "When was the book published \n",
      "3/5 What kind of book is it?\n",
      "What kind of book is it \n",
      "4/5 What magazine first published the book?\n",
      "What magazine first published the book \n",
      "\n",
      " 1/2240 New conversation\n",
      "0/5 What network was Dexter on?\n"
     ]
    }
   ],
   "source": [
    "banning_str = False #[[\"ř\",\"r\"]]\n",
    "conversations_len = len(conversations)\n",
    "\n",
    "last_i = 0\n",
    "for i, conversation in enumerate(conversations):\n",
    "    if i >= last_i:\n",
    "        print(\"\\n-->\",str(i)+\"/\"+str(conversations_len), \"New conversation\")\n",
    "        questions = [turn['question'] for turn in conversation['questions']]\n",
    "        questions_len = len(questions)\n",
    "        for i_q, question in enumerate(questions):\n",
    "            print(str(i_q)+\"/\"+str(questions_len),question)\n",
    "            print(tmqa.get_nlp(question,autocorrect=True,banning_str=banning_str))\n",
    "    #break"
   ]
  },
  {
   "cell_type": "code",
   "execution_count": 12,
   "metadata": {},
   "outputs": [],
   "source": [
    "#LOADING QAGraph\n",
    "#df_loaded = pd.read_pickle(\"/data/users/romain.claret/tm/mse.tm.chatbot.base/benchmark_pickles/wd-sq/benchmarking-qanswer-platypus-convex-graphqa-from-0-to-193.pickle.bz2\")\n",
    "#print(df_loaded.dtypes)\n"
   ]
  },
  {
   "cell_type": "code",
   "execution_count": null,
   "metadata": {
    "scrolled": true
   },
   "outputs": [],
   "source": [
    "#banning_str = False #[[\"ř\",\"r\"]]\n",
    "#\n",
    "#df_loaded_len = len(df_loaded)\n",
    "#last_i = 0\n",
    "#for i, question in enumerate(df_loaded['question']):\n",
    "#    if i >=last_i:\n",
    "#        last_i = i\n",
    "#        print(str(i)+\"/\"+str(df_loaded_len),\"Testing:\",question)\n",
    "#        print(tmqa.get_nlp(question,autocorrect=True,banning_str=banning_str))"
   ]
  },
  {
   "cell_type": "code",
   "execution_count": null,
   "metadata": {},
   "outputs": [],
   "source": []
  }
 ],
 "metadata": {
  "kernelspec": {
   "display_name": "Python [conda env:qa]",
   "language": "python",
   "name": "conda-env-qa-py"
  },
  "language_info": {
   "codemirror_mode": {
    "name": "ipython",
    "version": 3
   },
   "file_extension": ".py",
   "mimetype": "text/x-python",
   "name": "python",
   "nbconvert_exporter": "python",
   "pygments_lexer": "ipython3",
   "version": "3.7.5"
  }
 },
 "nbformat": 4,
 "nbformat_minor": 2
}
