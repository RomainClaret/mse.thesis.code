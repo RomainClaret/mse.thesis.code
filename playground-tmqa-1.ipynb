{
 "cells": [
  {
   "cell_type": "code",
   "execution_count": 1,
   "metadata": {},
   "outputs": [
    {
     "data": {
      "application/javascript": [
       "IPython.notebook.set_autosave_interval(180000)"
      ]
     },
     "metadata": {},
     "output_type": "display_data"
    },
    {
     "name": "stdout",
     "output_type": "stream",
     "text": [
      "Autosaving every 180 seconds\n"
     ]
    }
   ],
   "source": [
    "import tmqa12 as tmqa1"
   ]
  },
  {
   "cell_type": "code",
   "execution_count": 2,
   "metadata": {},
   "outputs": [
    {
     "name": "stdout",
     "output_type": "stream",
     "text": [
      "-> q_nlp: Who is the wife of Barack Obama?\n",
      "-> q_themes: ([(Barack Obama, ['Q47513588', 'Q76', 'Q13202704', 'Q47513588', 'Q76', 'Q13202704', 'Q47513588', 'Q76', 'Q13202704', 'Q76']), (The Wife, ['Q19102288', 'Q16205566', 'Q23936005', 'Q3273509'])], [the wife, the wife, barack obama, the wife])\n",
      "-> q_themes_enhanced: [('The Wife', ['Q19102288', 'Q16205566', 'Q23936005', 'Q3273509']), ('wife', ['P26', 'Q188830', 'Q24039104']), ('Wife', ['Q11447160', 'Q7999459', 'Q28318271', 'Q7774795', 'Q7999457']), ('Barack Obama', ['Q47513588', 'Q76', 'Q13202704']), ('Barack', ['Q18643532', 'Q76', 'Q37011990', 'Q380650']), ('Obama', ['Q223850', 'Q15259951', 'Q33687029', 'Q76', 'Q18355807'])]\n",
      "-> q_predicates: [(is, ['P31', 'P433', 'P131'])]\n",
      "-> q_focused_parts: [(is, ['Q189', 'Q294'])]\n",
      "-> Building the graph with k_deep 50 ... (could be long)\n",
      "-->  305 nodes and 304 edges\n",
      "-> predicates_dict: {'P2842': 1, 'P580': 4, 'P26': 5, 'P279': 2, 'P1476': 4, 'P805': 2, 'P1343': 2, 'P527': 2, 'P460': 4, 'P1013': 4, 'P1889': 3, 'http://www.w3.org/2002/07/owl#sameAs': 2, 'P155': 4, 'P585': 2, 'P166': 1, 'P1552': 1, 'P1533': 1, 'P407': 2, 'P1686': 1, 'P1411': 1, 'P361': 1, 'P571': 1, 'P1429': 1, 'P25': 1, 'P108': 3, 'P582': 2, 'P106': 4, 'P19': 2, 'P31': 20, 'P1245': 1, 'P22': 1, 'P1424': 1, 'P282': 2, 'P734': 1, 'P1039': 3, 'P3373': 2, 'P136': 4, 'P1299': 1, 'P276': 2, 'P102': 1, 'P1038': 2, 'P461': 1, 'P17': 1, 'P495': 2, 'P1225': 1, 'P21': 1, 'P272': 1, 'P171': 2, 'P462': 1, 'P161': 1, 'P18': 1, 'P195': 2, 'P217': 2, 'P2959': 1, 'P2676': 2, 'P1657': 1, 'P1705': 1, 'P3834': 1, 'P1319': 1, 'P570': 1, 'P1562': 1, 'P243': 2, 'P162': 1, 'P1545': 1, 'P179': 1, 'P1258': 2, 'P105': 1, 'P364': 1, 'P1006': 2, 'P2581': 2, 'P1003': 1, 'P123': 1, 'P646': 2, 'P1014': 2, 'P170': 1, 'P227': 2, 'P131': 1}\n",
      "-> paths_keywords: (['is', 'wife', 'barack obama', 'the wife', 'iceland', 'icelandic language'], {'spouse': [spouse, ['P26']], 'wife': [spouse, ['P26']]}, [Who])\n",
      "-> Computing possible paths... (could be long)\n",
      "--> len(path_nodes): 3594\n",
      "-> Filtering paths... (could be long)\n",
      "--> len(paths_nodes_filtered): 845\n",
      "-> Computing hypothesises...\n",
      "--> hypothesises: [['Q13133', 1322.0332404641126], ['Q157084', 450.76978892943373], ['Q18531596', 34.619210543955575], ['Q3155966', 17.075340204616296], ['Q766106', 15.781747038102182], ['Q10703919', 7.563230523356064], ['Q18643532', 4.2906634691330856e-05], ['Q37011990', 4.484738372623802e-11]]\n",
      "-> Computing golden paths...\n",
      "--> len(golden_paths): 5\n",
      "--> len(cleared_golden_paths): 3\n",
      "->\tRunning time is 252.94s\n",
      "\n",
      "[['Q13133', 'Q157084', 'Q18531596', 'Q3155966', 'Q766106', 'Q10703919', 'Q18643532', 'Q37011990'], ['Q13133', 'P26', 'Q76', 'P31', 'Q5', 'P31', 'Q24039104', 'P21', 'Q6581072', 'P1552', 'Q188830', 'P26', 'Q18531596'], ['Q13133', 'P26', 'Q76', 'P31', 'Q5', 'P31', 'Q24039104', 'P21', 'Q6581072', 'P1552', 'Q188830', 'P279', 'Q1196129']]\n",
      "\n",
      "Answer: Michelle Obama (Q13133)\n",
      "Paths: [['Michelle Obama', 'spouse', 'Barack Obama', 'instance of', 'human', 'instance of', 'wife', 'sex or gender', 'female', 'has quality', 'wife', 'spouse', 'Billy Strachan'], ['Michelle Obama', 'spouse', 'Barack Obama', 'instance of', 'human', 'instance of', 'wife', 'sex or gender', 'female', 'has quality', 'wife', 'subclass of', 'spouse']]\n"
     ]
    }
   ],
   "source": [
    "answer = tmqa1.answer_question(\"Who is the wife of Barack Obama?\", verbose=True)\n",
    "\n",
    "print(\"\")\n",
    "print(answer)\n",
    "print(\"\")\n",
    "    \n",
    "if answer: \n",
    "    print(\"Answer:\",tmqa1.get_wd_label(answer[0][0]), \"(\"+str(answer[0][0])+\")\")\n",
    "    print(\"Paths:\",[[tmqa1.get_wd_label(e) for e in row] for row in answer[1:]])"
   ]
  },
  {
   "cell_type": "code",
   "execution_count": 4,
   "metadata": {},
   "outputs": [
    {
     "name": "stdout",
     "output_type": "stream",
     "text": [
      "Question: Which actor voiced the Unicorn in The Last Unicorn?\n",
      "Answer: Mia Farrow (Q202725)\n",
      "Paths: [['Mia Farrow', 'voice actor', 'The Last Unicorn', 'character role', 'The Unicorn', 'instance of', 'unicorn in a fictional work', 'different from', 'Unicorn', 'named after', 'Unicorn'], ['Mia Farrow', 'voice actor', 'The Last Unicorn', 'character role', 'The Unicorn', 'of', 'The Last Unicorn'], ['Mia Farrow', 'voice actor', 'The Last Unicorn', 'character role', 'The Unicorn', 'instance of', 'unicorn in a fictional work', 'different from', 'Unicorn', 'depicts', 'unicorn'], ['Mia Farrow', 'voice actor', 'The Last Unicorn', 'character role', 'The Unicorn', 'instance of', 'unicorn in a fictional work', 'subclass of', 'unicorn'], ['Mia Farrow', 'voice actor', 'The Last Unicorn', 'character role', 'The Unicorn', 'instance of', 'unicorn in a fictional work', 'different from', 'Unicorn', 'described by source', 'Paulys Realenzyklopädie der klassischen Altertumswissenschaft', 'described by source', 'Actor', 'has part', 'Actor'], ['Mia Farrow', 'voice actor', 'The Last Unicorn', 'character role', 'The Unicorn', 'instance of', 'unicorn in a fictional work', 'different from', 'Unicorn', 'described by source', 'Paulys Realenzyklopädie der klassischen Altertumswissenschaft', 'described by source', 'Actor', 'has part', 'Actor']]\n",
      "\n",
      "\n",
      "Question: what city was alex golfis born in\n",
      "Answer: The City (Q18148906)\n",
      "Paths: [['The City', 'country of origin', 'United States of America', 'country', 'Alex', 'point in time', ''], ['The City', 'country of origin', 'United States of America', 'country', 'city', 'instance of', 'Glen Cove'], ['The City', 'country of origin', 'United States of America', 'country', 'city', 'instance of', 'Saratoga Springs'], ['The City', 'country of origin', 'United States of America', 'country', 'city', 'instance of', 'Syracuse'], ['The City', 'country of origin', 'United States of America', 'country', 'city', 'instance of', 'Yonkers'], ['The City', 'country of origin', 'United States of America', 'country', 'city', 'instance of', 'Canandaigua'], ['The City', 'country of origin', 'United States of America', 'country', 'city', 'instance of', 'Geneva'], ['The City', 'country of origin', 'United States of America', 'country', 'city', 'instance of', 'Glens Falls'], ['The City', 'country of origin', 'United States of America', 'country', 'city', 'instance of', 'Rye'], ['The City', 'country of origin', 'United States of America', 'country', 'city', 'instance of', 'Salamanca (city), New York'], ['The City', 'country of origin', 'United States of America', 'country', 'city', 'instance of', 'Norwich'], ['The City', 'country of origin', 'United States of America', 'country', 'city', 'instance of', 'Cohoes'], ['The City', 'country of origin', 'United States of America', 'country', 'city', 'instance of', 'Watervliet'], ['The City', 'country of origin', 'United States of America', 'country', 'city', 'instance of', 'Tonawanda (city), New York'], ['The City', 'country of origin', 'United States of America', 'country', 'city', 'instance of', 'Cortland'], ['The City', 'country of origin', 'United States of America', 'country', 'city', 'instance of', 'Batavia'], ['The City', 'country of origin', 'United States of America', 'country', 'city', 'instance of', 'Fulton'], ['The City', 'country of origin', 'United States of America', 'country', 'city', 'instance of', 'Binghamton'], ['The City', 'country of origin', 'United States of America', 'country', 'city', 'instance of', 'Ithaca'], ['The City', 'country of origin', 'United States of America', 'country', 'city', 'instance of', 'Auburn'], ['The City', 'country of origin', 'United States of America', 'country', 'city', 'instance of', 'Utica'], ['The City', 'country of origin', 'United States of America', 'country', 'city', 'instance of', 'Schenectady'], ['The City', 'country of origin', 'United States of America', 'country', 'city', 'instance of', 'Long Beach'], ['The City', 'country of origin', 'United States of America', 'country', 'city', 'instance of', 'Buffalo'], ['The City', 'country of origin', 'United States of America', 'country', 'city', 'instance of', 'Farrukhabad'], ['The City', 'country of origin', 'United States of America', 'country', 'city', 'instance of', 'White Plains'], ['The City', 'country of origin', 'United States of America', 'country', 'city', 'instance of', 'Amsterdam'], ['The City', 'country of origin', 'United States of America', 'country', 'city', 'instance of', 'Corning'], ['The City', 'country of origin', 'United States of America', 'country', 'city', 'instance of', 'Troy'], ['The City', 'country of origin', 'United States of America', 'country', 'city', 'instance of', 'Sherrill'], ['The City', 'country of origin', 'United States of America', 'country', 'city', 'instance of', 'Beacon'], ['The City', 'country of origin', 'United States of America', 'country', 'city', 'instance of', 'Dunkirk'], ['The City', 'country of origin', 'United States of America', 'country', 'city', 'instance of', 'Elmira'], ['list of cities in New York', 'is a list of', 'city', 'country', 'United States of America', 'country of origin', 'The City', 'instance of', 'film'], ['town of the United States', 'instance of', 'Alex', 'country', 'United States of America', 'country of origin', 'The City', 'instance of', 'film'], ['city of the United States', 'subclass of', 'city', 'country', 'United States of America', 'country of origin', 'The City', 'instance of', 'film'], ['', 'point in time', 'Alex', 'country', 'United States of America', 'country of origin', 'The City'], ['Glen Cove', 'instance of', 'city', 'country', 'United States of America', 'country of origin', 'The City'], ['Saratoga Springs', 'instance of', 'city', 'country', 'United States of America', 'country of origin', 'The City'], ['Syracuse', 'instance of', 'city', 'country', 'United States of America', 'country of origin', 'The City'], ['Yonkers', 'instance of', 'city', 'country', 'United States of America', 'country of origin', 'The City'], ['Canandaigua', 'instance of', 'city', 'country', 'United States of America', 'country of origin', 'The City'], ['Geneva', 'instance of', 'city', 'country', 'United States of America', 'country of origin', 'The City'], ['Glens Falls', 'instance of', 'city', 'country', 'United States of America', 'country of origin', 'The City'], ['Rye', 'instance of', 'city', 'country', 'United States of America', 'country of origin', 'The City'], ['Salamanca (city), New York', 'instance of', 'city', 'country', 'United States of America', 'country of origin', 'The City'], ['Norwich', 'instance of', 'city', 'country', 'United States of America', 'country of origin', 'The City'], ['Cohoes', 'instance of', 'city', 'country', 'United States of America', 'country of origin', 'The City'], ['Watervliet', 'instance of', 'city', 'country', 'United States of America', 'country of origin', 'The City'], ['Tonawanda (city), New York', 'instance of', 'city', 'country', 'United States of America', 'country of origin', 'The City'], ['Cortland', 'instance of', 'city', 'country', 'United States of America', 'country of origin', 'The City'], ['Batavia', 'instance of', 'city', 'country', 'United States of America', 'country of origin', 'The City'], ['Fulton', 'instance of', 'city', 'country', 'United States of America', 'country of origin', 'The City'], ['Binghamton', 'instance of', 'city', 'country', 'United States of America', 'country of origin', 'The City'], ['Ithaca', 'instance of', 'city', 'country', 'United States of America', 'country of origin', 'The City'], ['Auburn', 'instance of', 'city', 'country', 'United States of America', 'country of origin', 'The City'], ['Utica', 'instance of', 'city', 'country', 'United States of America', 'country of origin', 'The City'], ['Schenectady', 'instance of', 'city', 'country', 'United States of America', 'country of origin', 'The City'], ['Long Beach', 'instance of', 'city', 'country', 'United States of America', 'country of origin', 'The City'], ['Buffalo', 'instance of', 'city', 'country', 'United States of America', 'country of origin', 'The City'], ['Farrukhabad', 'instance of', 'city', 'country', 'United States of America', 'country of origin', 'The City'], ['White Plains', 'instance of', 'city', 'country', 'United States of America', 'country of origin', 'The City'], ['Amsterdam', 'instance of', 'city', 'country', 'United States of America', 'country of origin', 'The City'], ['Corning', 'instance of', 'city', 'country', 'United States of America', 'country of origin', 'The City'], ['Troy', 'instance of', 'city', 'country', 'United States of America', 'country of origin', 'The City'], ['Sherrill', 'instance of', 'city', 'country', 'United States of America', 'country of origin', 'The City'], ['Beacon', 'instance of', 'city', 'country', 'United States of America', 'country of origin', 'The City'], ['Dunkirk', 'instance of', 'city', 'country', 'United States of America', 'country of origin', 'The City'], ['Elmira', 'instance of', 'city', 'country', 'United States of America', 'country of origin', 'The City'], ['film', 'instance of', 'The City', 'country of origin', 'United States of America', 'country', 'city', 'is a list of', 'list of cities in New York'], ['film', 'instance of', 'The City', 'country of origin', 'United States of America', 'country', 'Alex', 'instance of', 'town of the United States'], ['film', 'instance of', 'The City', 'country of origin', 'United States of America', 'country', 'city', 'subclass of', 'city of the United States']]\n",
      "\n",
      "\n",
      "Question: what was the cause of death of yves klein\n"
     ]
    },
    {
     "name": "stdout",
     "output_type": "stream",
     "text": [
      "Answer: dying (Q267505)\n",
      "Paths: [['dying', 'has cause', 'Death', 'has parts of the class', 'date of death', 'has part', 'year of death'], ['dying', 'has cause', 'Death', 'facet of', 'date of death', 'has part', 'year of death'], ['dying', 'has cause', 'Death', 'of', 'Death', 'instance of', 'Death'], ['dying', 'has cause', 'Death', 'manifestation of', 'Death', 'instance of', 'Death']]\n",
      "\n",
      "\n",
      "Question: Who is the president of the United States?\n",
      "Answer: Directive Principles in India (Q3345469)\n",
      "Paths: [['Directive Principles in India', 'head of government', 'President', 'different from', 'president', 'office held by head of the organisation', 'Royal Statistical Society'], ['Directive Principles in India', 'head of government', 'President', 'different from', 'president', 'said to be the same as', 'director'], ['Directive Principles in India', 'head of government', 'President', 'different from', 'president', 'subclass of', 'leader of organisation'], ['Directive Principles in India', 'head of government', 'President', 'different from', 'president', 'instance of', 'President of the Royal Academy'], ['Directive Principles in India', 'head of government', 'President', 'different from', 'president', 'instance of', 'president of the Royal Geographical Society'], ['Directive Principles in India', 'head of government', 'President', 'different from', 'president', 'instance of', 'President of the Royal Astronomical Society'], ['Directive Principles in India', 'head of government', 'President', 'different from', 'president', 'instance of', 'President of the American Library Association'], ['Directive Principles in India', 'head of government', 'President', 'different from', 'president', 'instance of', 'President of the RSPB'], ['Directive Principles in India', 'head of government', 'President', 'different from', 'president', 'instance of', 'president of the Royal College of Physicians'], ['Directive Principles in India', 'head of government', 'President', 'different from', 'president', 'instance of', 'president of the Royal College of Paediatrics and Child Health'], ['Directive Principles in India', 'head of government', 'President', 'different from', 'president', 'instance of', 'corporate title'], ['Directive Principles in India', 'head of government', 'President', 'different from', 'president', 'field of this occupation', 'management', 'occupation', 'Eduardo Silva Meluk', 'instance of', 'human', 'instance of', 'Jack S. States'], ['Directive Principles in India', 'head of government', 'President', 'different from', 'president', 'field of this occupation', 'management', 'occupation', 'Eduardo Silva Meluk', 'sex or gender', 'male', 'sex or gender', 'Jack S. States'], ['Directive Principles in India', 'head of government', 'President', 'different from', 'president', 'field of this occupation', 'management', 'occupation', 'Eduardo Silva Meluk', 'country of citizenship', 'Colombia'], ['Directive Principles in India', 'head of government', 'President', 'different from', 'president', 'field of this occupation', 'management', 'occupation', 'Eduardo Silva Meluk', 'place of birth', 'Cúcuta'], ['Directive Principles in India', 'head of government', 'President', 'different from', 'president', 'applies to jurisdiction', 'organisation'], ['Directive Principles in India', 'head of government', 'President', 'different from', 'president', 'office contested', 'Democratic Party (Japan) leadership election, 2015'], ['Directive Principles in India', 'head of government', 'President', 'different from', 'president', 'instance of', 'occupation']]\n",
      "\n",
      "\n",
      "Question: When was produced the first Matrix movie?\n",
      "I don't know\n",
      "\n",
      "\n",
      "Question: Who made the soundtrack of the The Last Unicorn movie?\n",
      "I don't know\n",
      "\n",
      "\n",
      "Question: Who is the author of Le Petit Prince?\n",
      "I don't know\n",
      "\n",
      "\n",
      "Question: how is called the rabbit in Alice in Wonderland?\n",
      "Answer:  (1990-01-01T00:00:00Z)\n",
      "Paths: [['', 'date of foundation or creation', 'Alice', 'instance of', 'band'], ['', 'MusicBrainz artist ID', 'Alice', 'instance of', 'band'], ['', 'MusicBrainz artist ID', 'Alice', 'instance of', 'band'], ['', 'MusicBrainz artist ID', 'Wonderland', 'instance of', 'band'], ['', 'MusicBrainz artist ID', 'Wonderland', 'instance of', 'band'], ['', 'MusicBrainz artist ID', 'Wonderland', 'instance of', 'band'], ['', 'MusicBrainz artist ID', 'Wonderland', 'instance of', 'band']]\n",
      "\n",
      "\n"
     ]
    }
   ],
   "source": [
    "questions = (\n",
    "    \"Which actor voiced the Unicorn in The Last Unicorn?\",\n",
    "    \"what city was alex golfis born in\",\n",
    "    \"what was the cause of death of yves klein\",\n",
    "    \"Who is the president of the United States?\",\n",
    "    \"When was produced the first Matrix movie?\",\n",
    "    \"Who made the soundtrack of the The Last Unicorn movie?\",\n",
    "    \"Who is the author of Le Petit Prince?\",\n",
    "    \"how is called the rabbit in Alice in Wonderland?\",\n",
    "    \"what's akbar tandjung's ethnicity\"\n",
    "              )\n",
    "\n",
    "for question in questions:\n",
    "    print(\"Question:\",question)\n",
    "    answer = tmqa1.answer_question(question)\n",
    "    if answer: \n",
    "        print(\"Answer:\",tmqa1.get_wd_label(answer[0][0]), \"(\"+str(answer[0][0])+\")\")\n",
    "        print(\"Paths:\",[[tmqa1.get_wd_label(e) for e in row] for row in answer[1:]])\n",
    "    else:\n",
    "        print(\"I don't know\")\n",
    "    print(\"\\n\")"
   ]
  },
  {
   "cell_type": "code",
   "execution_count": null,
   "metadata": {},
   "outputs": [],
   "source": []
  }
 ],
 "metadata": {
  "kernelspec": {
   "display_name": "Python [conda env:qa]",
   "language": "python",
   "name": "conda-env-qa-py"
  },
  "language_info": {
   "codemirror_mode": {
    "name": "ipython",
    "version": 3
   },
   "file_extension": ".py",
   "mimetype": "text/x-python",
   "name": "python",
   "nbconvert_exporter": "python",
   "pygments_lexer": "ipython3",
   "version": "3.7.5"
  }
 },
 "nbformat": 4,
 "nbformat_minor": 2
}
