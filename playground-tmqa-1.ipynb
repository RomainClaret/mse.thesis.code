{
 "cells": [
  {
   "cell_type": "code",
   "execution_count": 2,
   "metadata": {},
   "outputs": [],
   "source": [
    "import tmqa12 as tmqa1"
   ]
  },
  {
   "cell_type": "code",
   "execution_count": 3,
   "metadata": {},
   "outputs": [
    {
     "name": "stdout",
     "output_type": "stream",
     "text": [
      "-> q_nlp: Who is the wife of Barack Obama?\n",
      "-> q_themes: ([(Barack Obama, ['Q13202704', 'Q76', 'Q47513588', 'Q13202704', 'Q76', 'Q47513588', 'Q13202704', 'Q76', 'Q47513588', 'Q76']), (The Wife, ['Q3273509', 'Q23936005', 'Q19102288', 'Q16205566'])], [the wife, the wife, barack obama, the wife])\n",
      "-> q_themes_enhanced: [('The Wife', ['Q3273509', 'Q23936005', 'Q19102288', 'Q16205566']), ('wife', ['P26', 'Q188830', 'Q24039104']), ('Wife', ['Q28318271', 'Q7999459', 'Q11447160', 'Q7999457', 'Q7774795']), ('Barack Obama', ['Q13202704', 'Q76', 'Q47513588']), ('Barack', ['Q37011990', 'Q76', 'Q380650', 'Q18643532']), ('Obama', ['Q18355807', 'Q15259951', 'Q76', 'Q33687029', 'Q223850'])]\n",
      "-> q_predicates: [(is, ['P31', 'P433', 'P131'])]\n",
      "-> q_focused_parts: [(is, ['Q189', 'Q294'])]\n",
      "-> Building the graph... (could be long)\n",
      "-->  305 nodes and 304 edges\n",
      "-> predicates_dict: {'P2842': 1, 'P580': 4, 'P26': 5, 'P279': 2, 'P1476': 4, 'P805': 2, 'P1343': 2, 'P527': 2, 'P460': 4, 'P1013': 4, 'P1889': 3, 'P155': 4, 'http://www.w3.org/2002/07/owl#sameAs': 2, 'P585': 2, 'P166': 1, 'P1552': 1, 'P1533': 1, 'P407': 2, 'P1686': 1, 'P1411': 1, 'P361': 1, 'P571': 1, 'P1429': 1, 'P25': 1, 'P108': 3, 'P582': 2, 'P106': 4, 'P19': 2, 'P31': 20, 'P1245': 1, 'P22': 1, 'P1424': 1, 'P282': 2, 'P734': 1, 'P1039': 3, 'P3373': 2, 'P136': 4, 'P1299': 1, 'P276': 2, 'P102': 1, 'P1038': 2, 'P461': 1, 'P17': 1, 'P495': 2, 'P1225': 1, 'P21': 1, 'P272': 1, 'P171': 2, 'P462': 1, 'P161': 1, 'P18': 1, 'P195': 2, 'P217': 2, 'P2959': 1, 'P2676': 2, 'P1657': 1, 'P1705': 1, 'P170': 1, 'P3834': 1, 'P1319': 1, 'P570': 1, 'P1562': 1, 'P243': 2, 'P162': 1, 'P1545': 1, 'P179': 1, 'P1258': 2, 'P105': 1, 'P364': 1, 'P1006': 2, 'P2581': 2, 'P1003': 1, 'P123': 1, 'P646': 2, 'P1014': 2, 'P227': 2, 'P131': 1}\n",
      "-> paths_keywords: (['is', 'wife', 'barack obama', 'the wife', 'iceland', 'icelandic language'], {'spouse': [spouse, ['P26']], 'wife': [spouse, ['P26']]}, [Who])\n",
      "-> Computing possible paths... (could be long)\n",
      "--> len(path_nodes): 3586\n",
      "-> Filtering paths... (could be long)\n",
      "--> len(paths_nodes_filtered): 853\n",
      "-> Computing hypothesises...\n",
      "--> hypothesises: [['Q13133', 1322.0332404641126], ['Q157084', 450.76978892943373], ['Q18531596', 34.619210543955575], ['Q3155966', 17.075340204616296], ['Q766106', 15.781747038102182], ['Q10703919', 7.563230523356064], ['Q18643532', 4.2906634691330856e-05], ['Q37011990', 4.484738372623802e-11]]\n",
      "-> Computing golden paths...\n",
      "--> golden_paths: [['Q13133', 'P26-1', 'Q76', 'P31-18', 'Q5', 'P31-17', 'Q24039104', 'P21-1', 'Q6581072', 'P1552-1', 'Q188830', 'P26-2', 'Q18531596'], ['Q13133', 'P26-5', 'Q76', 'P31-18', 'Q5', 'P31-17', 'Q24039104', 'P21-1', 'Q6581072', 'P1552-1', 'Q188830', 'P26-2', 'Q18531596'], ['Q13133', 'P26-1', 'Q76', 'P31-18', 'Q5', 'P31-17', 'Q24039104', 'P21-1', 'Q6581072', 'P1552-1', 'Q188830', 'P279-1', 'Q1196129'], ['Q13133', 'P26-5', 'Q76', 'P31-18', 'Q5', 'P31-17', 'Q24039104', 'P21-1', 'Q6581072', 'P1552-1', 'Q188830', 'P279-1', 'Q1196129']]\n",
      "\n",
      "[['Q13133', 'P26-1', 'Q76', 'P31-18', 'Q5', 'P31-17', 'Q24039104', 'P21-1', 'Q6581072', 'P1552-1', 'Q188830', 'P26-2', 'Q18531596'], ['Q13133', 'P26-5', 'Q76', 'P31-18', 'Q5', 'P31-17', 'Q24039104', 'P21-1', 'Q6581072', 'P1552-1', 'Q188830', 'P26-2', 'Q18531596'], ['Q13133', 'P26-1', 'Q76', 'P31-18', 'Q5', 'P31-17', 'Q24039104', 'P21-1', 'Q6581072', 'P1552-1', 'Q188830', 'P279-1', 'Q1196129'], ['Q13133', 'P26-5', 'Q76', 'P31-18', 'Q5', 'P31-17', 'Q24039104', 'P21-1', 'Q6581072', 'P1552-1', 'Q188830', 'P279-1', 'Q1196129']]\n",
      "\n",
      "Top 1: Michelle Obama (Q13133)\n",
      "Paths: [['Q13133', 'P26-1', 'Q76', 'P31-18', 'Q5', 'P31-17', 'Q24039104', 'P21-1', 'Q6581072', 'P1552-1', 'Q188830', 'P26-2', 'Q18531596'], ['Q13133', 'P26-5', 'Q76', 'P31-18', 'Q5', 'P31-17', 'Q24039104', 'P21-1', 'Q6581072', 'P1552-1', 'Q188830', 'P26-2', 'Q18531596'], ['Q13133', 'P26-1', 'Q76', 'P31-18', 'Q5', 'P31-17', 'Q24039104', 'P21-1', 'Q6581072', 'P1552-1', 'Q188830', 'P279-1', 'Q1196129'], ['Q13133', 'P26-5', 'Q76', 'P31-18', 'Q5', 'P31-17', 'Q24039104', 'P21-1', 'Q6581072', 'P1552-1', 'Q188830', 'P279-1', 'Q1196129']]\n"
     ]
    }
   ],
   "source": [
    "answer = tmqa1.answer_question(\"Who is the wife of Barack Obama?\", verbose=True)\n",
    "\n",
    "print(\"\")\n",
    "print(answer)\n",
    "print(\"\")\n",
    "if answer:\n",
    "    print(\"Answer:\",tmqa1.get_wd_label(answer[0][0]), \"(\"+str(answer[0][0])+\")\")\n",
    "    print(\"Paths:\",answer)"
   ]
  },
  {
   "cell_type": "code",
   "execution_count": null,
   "metadata": {},
   "outputs": [
    {
     "name": "stdout",
     "output_type": "stream",
     "text": [
      "Which actor voiced the Unicorn in The Last Unicorn?\n"
     ]
    }
   ],
   "source": [
    "questions = (\n",
    "    \"Which actor voiced the Unicorn in The Last Unicorn?\",\n",
    "    \"what city was alex golfis born in\",\n",
    "    \"what was the cause of death of yves klein\",\n",
    "    \"Who is the president of the United States?\",\n",
    "    \"When was produced the first Matrix movie?\",\n",
    "    \"Who made the soundtrack of the The Last Unicorn movie?\",\n",
    "    \"Who is the author of Le Petit Prince?\",\n",
    "    \"how is called the rabbit in Alice in Wonderland?\"    \n",
    "              )\n",
    "\n",
    "for question in questions:\n",
    "    print(question)\n",
    "    answer = tmqa1.answer_question(question)\n",
    "    if answer: \n",
    "        print(\"Answer:\",tmqa1.get_wd_label(answer[0][0]), \"(\"+str(answer[0][0])+\")\")\n",
    "        print(\"Paths:\",answer)\n",
    "    else:\n",
    "        print(\"I don't know\")\n",
    "    print(\"\\n\")"
   ]
  },
  {
   "cell_type": "code",
   "execution_count": null,
   "metadata": {},
   "outputs": [],
   "source": []
  }
 ],
 "metadata": {
  "kernelspec": {
   "display_name": "Python [conda env:qa]",
   "language": "python",
   "name": "conda-env-qa-py"
  }
 },
 "nbformat": 4,
 "nbformat_minor": 2
}
