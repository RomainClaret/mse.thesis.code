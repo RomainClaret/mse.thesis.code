{
 "cells": [
  {
   "cell_type": "markdown",
   "metadata": {},
   "source": [
    "# QAnswer Query\n",
    "- frontend https://qanswer-frontend.univ-st-etienne.fr/faq\n",
    "- API: http://qanswer-core1.univ-st-etienne.fr/api/gerbil\n",
    "- ```shell\n",
    "curl --data \"query=Who is the wife of Barack Obama&kb=dbpedia\" http://qanswer-core1.univ-st-etienne.fr/api/gerbil```"
   ]
  },
  {
   "cell_type": "code",
   "execution_count": 86,
   "metadata": {},
   "outputs": [
    {
     "data": {
      "text/plain": [
       "{'questions': [{'question': {'answers': '{\\n  \"head\" : {\\n    \"vars\" : [\\n      \"o1\"\\n    ]\\n  },\\n  \"results\" : {\\n    \"bindings\" : [\\n      {\\n        \"o1\" : {\\n          \"type\" : \"uri\",\\n          \"value\" : \"http://www.wikidata.org/entity/Q108283\"\\n        }\\n      },\\n      {\\n        \"o1\" : {\\n          \"type\" : \"uri\",\\n          \"value\" : \"http://www.wikidata.org/entity/Q174843\"\\n        }\\n      },\\n      {\\n        \"o1\" : {\\n          \"type\" : \"uri\",\\n          \"value\" : \"http://www.wikidata.org/entity/Q180338\"\\n        }\\n      },\\n      {\\n        \"o1\" : {\\n          \"type\" : \"uri\",\\n          \"value\" : \"http://www.wikidata.org/entity/Q202725\"\\n        }\\n      },\\n      {\\n        \"o1\" : {\\n          \"type\" : \"uri\",\\n          \"value\" : \"http://www.wikidata.org/entity/Q206856\"\\n        }\\n      },\\n      {\\n        \"o1\" : {\\n          \"type\" : \"uri\",\\n          \"value\" : \"http://www.wikidata.org/entity/Q3090544\"\\n        }\\n      },\\n      {\\n        \"o1\" : {\\n          \"type\" : \"uri\",\\n          \"value\" : \"http://www.wikidata.org/entity/Q348445\"\\n        }\\n      },\\n      {\\n        \"o1\" : {\\n          \"type\" : \"uri\",\\n          \"value\" : \"http://www.wikidata.org/entity/Q3514842\"\\n        }\\n      },\\n      {\\n        \"o1\" : {\\n          \"type\" : \"uri\",\\n          \"value\" : \"http://www.wikidata.org/entity/Q513399\"\\n        }\\n      },\\n      {\\n        \"o1\" : {\\n          \"type\" : \"uri\",\\n          \"value\" : \"http://www.wikidata.org/entity/Q645399\"\\n        }\\n      },\\n      {\\n        \"o1\" : {\\n          \"type\" : \"uri\",\\n          \"value\" : \"http://www.wikidata.org/entity/Q725931\"\\n        }\\n      },\\n      {\\n        \"o1\" : {\\n          \"type\" : \"uri\",\\n          \"value\" : \"http://www.wikidata.org/entity/Q946859\"\\n        }\\n      },\\n      {\\n        \"o1\" : {\\n          \"type\" : \"uri\",\\n          \"value\" : \"http://www.wikidata.org/entity/Q990788\"\\n        }\\n      }\\n    ]\\n  }\\n}',\n",
       "    'language': [{'SPARQL': 'SELECT DISTINCT ?o1 where { <http://www.wikidata.org/entity/Q176198>  <http://www.wikidata.org/prop/direct/P725>  ?o1 . } LIMIT 1000',\n",
       "      'confidence': 0.6983983587976916}]}}]}"
      ]
     },
     "execution_count": 86,
     "metadata": {},
     "output_type": "execute_result"
    }
   ],
   "source": [
    "import requests\n",
    "#lang: en, fr, de, it, es, zh\n",
    "#kb: dbpedia, wikidata, dblp, freebase\n",
    "data = {\n",
    "    'query': \"Which actor voiced the Unicorn in The Last Unicorn?\",\n",
    "    'lang': 'en',\n",
    "    'kb': 'wikidata'\n",
    "}\n",
    "response = requests.post('http://qanswer-core1.univ-st-etienne.fr/api/gerbil', data=data)\n",
    "response.json() if response else False"
   ]
  },
  {
   "cell_type": "code",
   "execution_count": 87,
   "metadata": {},
   "outputs": [
    {
     "data": {
      "text/plain": [
       "'http://www.wikidata.org/entity/Q108283'"
      ]
     },
     "execution_count": 87,
     "metadata": {},
     "output_type": "execute_result"
    }
   ],
   "source": [
    "answer = (json.loads(response.json()\n",
    "            .get(\"questions\")[0]\n",
    "            .get(\"question\")\n",
    "            .get(\"answers\")\n",
    "            .replace('\\n', ''))\n",
    "     .get(\"results\").get(\"bindings\")[0]\n",
    "     .get(\"o1\").get(\"value\"))\n",
    "answer"
   ]
  },
  {
   "cell_type": "code",
   "execution_count": 85,
   "metadata": {},
   "outputs": [
    {
     "data": {
      "text/plain": [
       "{'SPARQL': 'SELECT DISTINCT ?o1 where { <http://www.wikidata.org/entity/Q176198>  <http://www.wikidata.org/prop/direct/P725>  ?o1 . } LIMIT 1000',\n",
       " 'confidence': 0.6983983587976916}"
      ]
     },
     "execution_count": 85,
     "metadata": {},
     "output_type": "execute_result"
    }
   ],
   "source": [
    "query = (response.json().get(\"questions\")[0].get(\"question\").get(\"language\")[0])\n",
    "query"
   ]
  },
  {
   "cell_type": "code",
   "execution_count": null,
   "metadata": {},
   "outputs": [],
   "source": []
  }
 ],
 "metadata": {
  "kernelspec": {
   "display_name": "Python [conda env:tm] *",
   "language": "python",
   "name": "conda-env-tm-py"
  },
  "language_info": {
   "codemirror_mode": {
    "name": "ipython",
    "version": 3
   },
   "file_extension": ".py",
   "mimetype": "text/x-python",
   "name": "python",
   "nbconvert_exporter": "python",
   "pygments_lexer": "ipython3",
   "version": "3.7.4"
  }
 },
 "nbformat": 4,
 "nbformat_minor": 2
}
