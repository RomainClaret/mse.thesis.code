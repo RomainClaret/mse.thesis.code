{
 "cells": [
  {
   "cell_type": "code",
   "execution_count": 1,
   "metadata": {},
   "outputs": [],
   "source": [
    "import tmqaalpha2 as tm2\n",
    "import convex as cx\n",
    "import requests\n",
    "import json\n",
    "import matplotlib.pyplot as plt\n",
    "import networkx as nx"
   ]
  },
  {
   "cell_type": "code",
   "execution_count": 2,
   "metadata": {},
   "outputs": [],
   "source": [
    "telegram_chat_id = 0\n",
    "telegram_bot_token = \"\""
   ]
  },
  {
   "cell_type": "code",
   "execution_count": 3,
   "metadata": {},
   "outputs": [],
   "source": [
    "def send_message(message, telegram_chat_id):\n",
    "    requests.post(\"https://api.telegram.org/bot\" + str(telegram_bot_token) + \"/sendMessage?chat_id=\"+str(telegram_chat_id)+\"&text=\"+message).json()\n",
    "\n",
    "def get_updates():\n",
    "    updates = requests.post(\"https://api.telegram.org/bot\" + str(telegram_bot_token) + \"/getUpdates\").json()\n",
    "    return updates\n",
    "\n",
    "def send_typing(telegram_chat_id):\n",
    "    requests.post(\"https://api.telegram.org/bot\" + str(telegram_bot_token) + \"/sendChatAction?chat_id=\"+str(telegram_chat_id)+\"&action=typing\").json()"
   ]
  },
  {
   "cell_type": "code",
   "execution_count": 4,
   "metadata": {},
   "outputs": [],
   "source": [
    "send_message(\n",
    "    \"Greetings world\", \n",
    "    telegram_chat_id\n",
    ")"
   ]
  },
  {
   "cell_type": "code",
   "execution_count": 5,
   "metadata": {},
   "outputs": [],
   "source": [
    "from telegram.ext import Updater, CommandHandler, MessageHandler, Filters, StringCommandHandler\n",
    "from telegram import ChatAction\n",
    "from telegram.error import (TelegramError, Unauthorized, BadRequest, \n",
    "                            TimedOut, ChatMigrated, NetworkError)\n",
    "import requests\n",
    "import re\n",
    "import logging\n",
    "logging.basicConfig(format='%(asctime)s - %(name)s - %(levelname)s - %(message)s',\n",
    "                    level=logging.INFO)\n",
    "logger = logging.getLogger(__name__)"
   ]
  },
  {
   "cell_type": "code",
   "execution_count": 6,
   "metadata": {},
   "outputs": [],
   "source": [
    "def get_url():\n",
    "    contents = requests.get('https://random.dog/woof.json').json()    \n",
    "    url = contents['url']\n",
    "    return url"
   ]
  },
  {
   "cell_type": "code",
   "execution_count": 7,
   "metadata": {},
   "outputs": [],
   "source": [
    "def get_image_url():\n",
    "    allowed_extension = ['jpg','jpeg','png']\n",
    "    file_extension = ''\n",
    "    while file_extension not in allowed_extension:\n",
    "        url = get_url()\n",
    "        file_extension = re.search(\"([^.]*)$\",url).group(1).lower()\n",
    "    return url"
   ]
  },
  {
   "cell_type": "code",
   "execution_count": 8,
   "metadata": {},
   "outputs": [],
   "source": [
    "def dog(bot, update):\n",
    "    url = get_image_url()\n",
    "    chat_id = update.message.chat_id\n",
    "    bot.send_photo(chat_id=chat_id, photo=url)"
   ]
  },
  {
   "cell_type": "code",
   "execution_count": 9,
   "metadata": {},
   "outputs": [],
   "source": [
    "def start(bot, update):\n",
    "    bot.send_message(chat_id=update.message.chat_id, text='Hi!')"
   ]
  },
  {
   "cell_type": "code",
   "execution_count": 10,
   "metadata": {},
   "outputs": [],
   "source": [
    "def echo(bot, update):\n",
    "    bot.send_message(chat_id=update.message.chat_id, text=update.message.text)"
   ]
  },
  {
   "cell_type": "code",
   "execution_count": 23,
   "metadata": {},
   "outputs": [],
   "source": [
    "def ask_tm2(bot, update):\n",
    "    question = update.message.text\n",
    "    logger.info(\"Processing TM2 question: \" + str(question))\n",
    "    bot.send_message(chat_id=update.message.chat_id, text=\"Rafic -> Thinking about: \"+question)\n",
    "    bot.send_chat_action(chat_id=update.message.chat_id, action=ChatAction.TYPING)\n",
    "    answer = tm2.answer_question(question)\n",
    "    if answer:\n",
    "        top_1 = \"Top 1: \"+str(tm2.get_wd_label(answer[0][0]))+\" (\"+str(answer[0][0])+\")\"\n",
    "        top_n = \"Top n: \"+str([(tm2.get_wd_label(h[0]), h[0], h[1]) for i,h in enumerate(answer)])\n",
    "        logger.info(\"Top1 for TM2 question: \" + str(question) + \" --> \" + str(top_1))\n",
    "        bot.send_message(chat_id=update.message.chat_id, text=top_1)\n",
    "        bot.send_message(chat_id=update.message.chat_id, text=top_n)\n",
    "    else:\n",
    "        bot.send_message(chat_id=update.message.chat_id, text=\"I don't know\")\n",
    "        logger.info(\"Top1 for Convex question: \" + str(question) + \" --> I don't know\")"
   ]
  },
  {
   "cell_type": "code",
   "execution_count": 24,
   "metadata": {},
   "outputs": [],
   "source": [
    "def ask_tm2_graph(bot, update, args):\n",
    "    question = \" \".join(args)\n",
    "    logger.info(\"Processing TM2 Graph question: \" + str(question))\n",
    "    bot.send_message(chat_id=update.message.chat_id, text=\"Rafic -> Thinking about: \"+question)\n",
    "    bot.send_chat_action(chat_id=update.message.chat_id, action=ChatAction.TYPING)\n",
    "    \n",
    "    q_nlp = tm2.get_nlp(question)\n",
    "    q_themes = tm2.get_themes(q_nlp)\n",
    "    q_themes_enhanced = tm2.get_enhanced_themes(q_themes)\n",
    "    q_predicates = tm2.get_predicates(q_nlp)\n",
    "    bot.send_chat_action(chat_id=update.message.chat_id, action=ChatAction.TYPING)\n",
    "    q_predicates = q_predicates if q_predicates[0][1] else tm2.get_predicates_online(q_nlp)\n",
    "    q_focused_parts = tm2.get_focused_parts_2(q_nlp)\n",
    "    bot.send_chat_action(chat_id=update.message.chat_id, action=ChatAction.TYPING)\n",
    "    graph, predicates_dict = tm2.build_graph(q_nlp, q_themes, q_themes_enhanced, q_predicates)\n",
    "    bot.send_chat_action(chat_id=update.message.chat_id, action=ChatAction.TYPING)\n",
    "    paths_keywords = tm2.find_paths_keywords(graph, q_nlp, q_themes, q_themes_enhanced, q_predicates, q_focused_parts)\n",
    "    bot.send_chat_action(chat_id=update.message.chat_id, action=ChatAction.TYPING)\n",
    "    path_nodes = tm2.find_path_nodes_from_graph_2(graph, paths_keywords)\n",
    "    paths_nodes_filtered = tm2.paths_nodes_filter(path_nodes)\n",
    "    bot.send_chat_action(chat_id=update.message.chat_id, action=ChatAction.TYPING)\n",
    "    hypothesises = tm2.get_hypothesises(q_nlp, paths_keywords, paths_nodes_filtered)\n",
    "    \n",
    "    tm2.save_cache_data()\n",
    "    \n",
    "    if hypothesises: answer = hypothesises\n",
    "    else: answer = False\n",
    "\n",
    "    if answer:\n",
    "        top_1 = \"Top 1: \"+str(tm2.get_wd_label(answer[0][0]))+\" (\"+str(answer[0][0])+\")\"\n",
    "        top_n = \"Top n: \"+str([(tm2.get_wd_label(h[0]), h[0], h[1]) for i,h in enumerate(answer)])\n",
    "        answer_title = str(\"Question: \\\"\" + str(question) + \"\\\" --> \" + str(top_1))\n",
    "        logger.info(answer_title)\n",
    "        bot.send_message(chat_id=update.message.chat_id, text=top_1)\n",
    "        bot.send_message(chat_id=update.message.chat_id, text=top_n)\n",
    "    else:\n",
    "        answer_title = str(\"Question: \\\"\" + str(question) + \"\\\" --> NO ANSWER\")\n",
    "        bot.send_message(chat_id=update.message.chat_id, text=\"I don't know\")\n",
    "        logger.info(\"Top1 for Convex question: \" + str(question) + \" --> I don't know\")\n",
    "    \n",
    "    bot.send_chat_action(chat_id=update.message.chat_id, action=ChatAction.TYPING)\n",
    "    fig = plt.figure(figsize=(14,14))\n",
    "    ax = plt.subplot(111)\n",
    "    ax.set_title(answer_title, fontsize=10)\n",
    "    #pos = nx.spring_layout(graph)\n",
    "    labels, colors = tm2.get_elements_from_graph(graph)\n",
    "    nx.draw(graph, node_size=30, node_color=colors, font_size=10, font_weight='bold', with_labels=True, labels=labels)\n",
    "    plt.tight_layout()\n",
    "    file_name = str(str(question)+\".png\")\n",
    "    plt.savefig(file_name, format=\"PNG\", dpi = 300)\n",
    "    plt.clf()\n",
    "    plt.cla()\n",
    "    plt.close()\n",
    "    bot.send_chat_action(chat_id=update.message.chat_id, action=ChatAction.TYPING)\n",
    "    bot.send_photo(chat_id=update.message.chat_id, photo=open(file_name, 'rb'))"
   ]
  },
  {
   "cell_type": "code",
   "execution_count": 25,
   "metadata": {},
   "outputs": [],
   "source": [
    "def ask_platypus(question):\n",
    "    headers = {'Accept': 'application/json','Accept-Language': 'en',}\n",
    "    params = (('q', question),('lang', 'en'))\n",
    "\n",
    "    response = requests.get('https://qa.askplatyp.us/v0/ask', headers=headers, params=params)\n",
    "    if response:\n",
    "        if type(response.json()['member']) is list:\n",
    "            #print(response.json()['member'][0]['result'])\n",
    "            if response.json()['member'] != []:\n",
    "                if '@id' in (json.dumps(response.json()['member'][0]['result'])):\n",
    "                    ps_result = (json.dumps(response.json()['member'][0]['result']['@id']))\n",
    "                else: return False\n",
    "            else: return False\n",
    "        else:\n",
    "            try:\n",
    "                if '@id' in (json.dumps(response.json()['member']['result'])):\n",
    "                    ps_result = (json.dumps(response.json()[\"member\"]['result']['@id']))\n",
    "                else: return False\n",
    "            except:\n",
    "                return False\n",
    "    else: return False\n",
    "    ps_result = ps_result[4:-1]\n",
    "    #print(result[:1])\n",
    "    if ps_result[:1] != 'P' and ps_result[:1] != 'Q':\n",
    "        return False\n",
    "    return ps_result"
   ]
  },
  {
   "cell_type": "code",
   "execution_count": 26,
   "metadata": {},
   "outputs": [],
   "source": [
    "def bot_ask_platypus(bot, update, args):\n",
    "    question = \" \".join(args)\n",
    "    logger.info(\"Processing Platypus question: \"+ str(question))\n",
    "    bot.send_message(chat_id=update.message.chat_id, text=\"Platypus -> Thinking about: \"+question)\n",
    "    bot.send_chat_action(chat_id=update.message.chat_id, action=ChatAction.TYPING)\n",
    "    answer = ask_platypus(question)\n",
    "    if answer:\n",
    "        top_1 = str(tm2.get_wd_label(answer))\n",
    "        logger.info(\"Top1 for Platypus question: \" + str(question) + \" --> \" + str(top_1))\n",
    "        bot.send_message(chat_id=update.message.chat_id, text=top_1)\n",
    "    else:\n",
    "        bot.send_message(chat_id=update.message.chat_id, text=\"I don't know\")\n",
    "        logger.info(\"Top1 for Convex question: \" + str(question) + \" --> I don't know\")"
   ]
  },
  {
   "cell_type": "code",
   "execution_count": 27,
   "metadata": {},
   "outputs": [],
   "source": [
    "def ask_qanswer(question):\n",
    "    data = {'query': question,'lang': 'en','kb': 'wikidata'}\n",
    "    query = requests.post('http://qanswer-core1.univ-st-etienne.fr/api/gerbil', data=data)\n",
    "    if not query:\n",
    "        return False\n",
    "    if (query.json()['questions'][0]['question']['answers']) == None:\n",
    "        return False\n",
    "    try:\n",
    "        response = (json.loads(query.json()\n",
    "                .get(\"questions\")[0]\n",
    "                .get(\"question\")\n",
    "                .get(\"answers\")\n",
    "                .replace('\\n', ''))\n",
    "         .get(\"results\").get(\"bindings\"))\n",
    "    except:\n",
    "        return False\n",
    "    \n",
    "    if response:\n",
    "        return response[0].get(\"o1\").get(\"value\")[len(\"http://www.wikidata.org/entity/\"):] if response[0].get(\"o1\") is not None else False\n",
    "    else:\n",
    "        return False"
   ]
  },
  {
   "cell_type": "code",
   "execution_count": 28,
   "metadata": {},
   "outputs": [],
   "source": [
    "def bot_ask_qanswer(bot, update, args):\n",
    "    question = \" \".join(args)\n",
    "    logger.info(\"Processing qAnswer question: \" + str(question))\n",
    "    bot.send_message(chat_id=update.message.chat_id, text=\"qAnswer -> Thinking about: \"+question)\n",
    "    bot.send_chat_action(chat_id=update.message.chat_id, action=ChatAction.TYPING)\n",
    "    answer = ask_qanswer(question)\n",
    "    if answer:\n",
    "        top_1 = str(tm2.get_wd_label(answer))\n",
    "        logger.info(\"Top1 for qAnswer question: \" + str(question) + \" --> \" + str(top_1))\n",
    "        bot.send_message(chat_id=update.message.chat_id, text=top_1)\n",
    "    else:\n",
    "        bot.send_message(chat_id=update.message.chat_id, text=\"I don't know\")\n",
    "        logger.info(\"Top1 for Convex question: \" + str(question) + \" --> I don't know\")"
   ]
  },
  {
   "cell_type": "code",
   "execution_count": 29,
   "metadata": {},
   "outputs": [],
   "source": [
    "def ask_convex(question):\n",
    "    cx_result = cx.answer_complete_question(question, cx.tagmeToken)['answers'][0]['answer']\n",
    "    if not cx_result:\n",
    "        return cx_result\n",
    "    if cx_result[:1] != 'P' and cx_result[:1] != 'Q':\n",
    "        return False\n",
    "    return cx_result"
   ]
  },
  {
   "cell_type": "code",
   "execution_count": 30,
   "metadata": {},
   "outputs": [],
   "source": [
    "def bot_ask_convex(bot, update, args):\n",
    "    question = \" \".join(args)\n",
    "    logger.info(\"Processing Convex question: \"+ str(question))\n",
    "    bot.send_message(chat_id=update.message.chat_id, text=\"Convex -> Thinking about: \"+question)\n",
    "    bot.send_chat_action(chat_id=update.message.chat_id, action=ChatAction.TYPING)\n",
    "    answer = ask_qanswer(question)\n",
    "    if answer:\n",
    "        top_1 = str(tm2.get_wd_label(answer))\n",
    "        logger.info(\"Top1 for Convex question: \" + str(question) + \" --> \" + str(top_1))\n",
    "        bot.send_message(chat_id=update.message.chat_id, text=top_1)\n",
    "    else:\n",
    "        logger.info(\"Top1 for Convex question: \" + str(question) + \" --> I don't know\")\n",
    "        bot.send_message(chat_id=update.message.chat_id, text=\"I don't know\")"
   ]
  },
  {
   "cell_type": "code",
   "execution_count": 31,
   "metadata": {},
   "outputs": [],
   "source": [
    "def help(bot, update):\n",
    "    bot.send_message(chat_id=update.message.chat_id, text='ask Rafic (TM): type question in the chat')\n",
    "    bot.send_message(chat_id=update.message.chat_id, text='ask Rafic (TM) with a subgraph: /graph question')\n",
    "    bot.send_message(chat_id=update.message.chat_id, text='ask Platypus: /platypus question')\n",
    "    bot.send_message(chat_id=update.message.chat_id, text='ask qAnswer: /qanswer question')\n",
    "    bot.send_message(chat_id=update.message.chat_id, text='ask Convex: /convex question')"
   ]
  },
  {
   "cell_type": "code",
   "execution_count": 32,
   "metadata": {},
   "outputs": [],
   "source": [
    "import traceback\n",
    "def error_callback(bot, update, error):\n",
    "    try:\n",
    "        raise error\n",
    "    except Unauthorized:\n",
    "        error_info =\"Error -> Unauthorized: removed update.message.chat_id from conversation list\"\n",
    "        logger.info(error_info)\n",
    "        bot.send_message(chat_id=update.message.chat_id, text=error_info)\n",
    "    except BadRequest:\n",
    "        error_info = \"Error -> BadRequest: malformed requests\"\n",
    "        logger.info(error_info)\n",
    "        bot.send_message(chat_id=update.message.chat_id, text=error_info)\n",
    "    except TimedOut:\n",
    "        error_info = \"Error -> TimedOut: slow connection problems\"\n",
    "        logger.info(error_info)\n",
    "        bot.send_message(chat_id=update.message.chat_id, text=error_info)\n",
    "    except NetworkError:\n",
    "        error_info = \"Error -> NetworkError: connection problems\"\n",
    "        logger.info(error_info)\n",
    "        bot.send_message(chat_id=update.message.chat_id, text=error_info)\n",
    "    except ChatMigrated as e:\n",
    "        error_info = \"Error -> ChatMigrated: the chat_id of a group has changed, use e.new_chat_id instead\"\n",
    "        logger.info(error_info)\n",
    "        bot.send_message(chat_id=update.message.chat_id, text=error_info)\n",
    "    except TelegramError:\n",
    "        error_info = \"Error -> TelegramError: telegram related errors\"\n",
    "        logger.info(error_info)\n",
    "        bot.send_message(chat_id=update.message.chat_id, text=error_info)\n",
    "    except:\n",
    "        error_info = \"Your question generated an error, please reformulate or remove special characters.\"\n",
    "        logger.info(\"Error -> \"+error_info)\n",
    "        logger.info(traceback.format_exc())\n",
    "        bot.send_message(chat_id=update.message.chat_id, text=error_info)\n",
    "    \n",
    "        \n",
    "    #logger.info(\"Error: \" + str(update.message.text))\n",
    "    #logger.warning('Update \"%s\" caused error \"%s\"', bot, update.error)"
   ]
  },
  {
   "cell_type": "code",
   "execution_count": null,
   "metadata": {},
   "outputs": [],
   "source": []
  },
  {
   "cell_type": "code",
   "execution_count": null,
   "metadata": {},
   "outputs": [
    {
     "name": "stderr",
     "output_type": "stream",
     "text": [
      "2019-12-11 22:52:07,558 - __main__ - INFO - Processing TM2 question: lol\n",
      "2019-12-11 22:52:07,868 - __main__ - INFO - Top1 for Convex question: lol --> I don't know\n"
     ]
    }
   ],
   "source": [
    "updater = Updater(telegram_bot_token)\n",
    "dp = updater.dispatcher\n",
    "dp.add_handler(CommandHandler('dog',dog))\n",
    "dp.add_handler(CommandHandler('help',help))\n",
    "dp.add_handler(CommandHandler(\"platypus\", bot_ask_platypus, pass_args=True))\n",
    "dp.add_handler(CommandHandler(\"convex\", bot_ask_convex, pass_args=True))\n",
    "dp.add_handler(CommandHandler(\"qanswer\", bot_ask_qanswer, pass_args=True))\n",
    "dp.add_handler(CommandHandler(\"graph\", ask_tm2_graph, pass_args=True))\n",
    "dp.add_handler(MessageHandler(Filters.text, ask_tm2))\n",
    "dp.add_error_handler(error_callback)\n",
    "updater.start_polling()\n",
    "updater.idle()"
   ]
  },
  {
   "cell_type": "code",
   "execution_count": null,
   "metadata": {},
   "outputs": [],
   "source": []
  }
 ],
 "metadata": {
  "kernelspec": {
   "display_name": "Python [conda env:qa]",
   "language": "python",
   "name": "conda-env-qa-py"
  },
  "language_info": {
   "codemirror_mode": {
    "name": "ipython",
    "version": 3
   },
   "file_extension": ".py",
   "mimetype": "text/x-python",
   "name": "python",
   "nbconvert_exporter": "python",
   "pygments_lexer": "ipython3",
   "version": "3.7.5"
  }
 },
 "nbformat": 4,
 "nbformat_minor": 2
}
