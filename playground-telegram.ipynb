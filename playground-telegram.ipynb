{
 "cells": [
  {
   "cell_type": "code",
   "execution_count": 1,
   "metadata": {},
   "outputs": [],
   "source": [
    "import tmqa1 as tmqa1\n",
    "import convex as cx\n",
    "import requests\n",
    "import json\n",
    "import matplotlib.pyplot as plt\n",
    "import networkx as nx"
   ]
  },
  {
   "cell_type": "code",
   "execution_count": 2,
   "metadata": {},
   "outputs": [],
   "source": []
  },
  {
   "cell_type": "code",
   "execution_count": 3,
   "metadata": {},
   "outputs": [],
   "source": [
    "def send_message(message, telegram_chat_id):\n",
    "    requests.post(\"https://api.telegram.org/bot\" + str(telegram_bot_token) + \"/sendMessage?chat_id=\"+str(telegram_chat_id)+\"&text=\"+message).json()\n",
    "\n",
    "def get_updates():\n",
    "    updates = requests.post(\"https://api.telegram.org/bot\" + str(telegram_bot_token) + \"/getUpdates\").json()\n",
    "    return updates\n",
    "\n",
    "def send_typing(telegram_chat_id):\n",
    "    requests.post(\"https://api.telegram.org/bot\" + str(telegram_bot_token) + \"/sendChatAction?chat_id=\"+str(telegram_chat_id)+\"&action=typing\").json()"
   ]
  },
  {
   "cell_type": "code",
   "execution_count": 4,
   "metadata": {},
   "outputs": [],
   "source": [
    "send_message(\n",
    "    \"Bot restarted\", \n",
    "    telegram_chat_id\n",
    ")"
   ]
  },
  {
   "cell_type": "code",
   "execution_count": 5,
   "metadata": {},
   "outputs": [],
   "source": [
    "from telegram.ext import Updater, CommandHandler, MessageHandler, Filters, StringCommandHandler\n",
    "from telegram import ChatAction\n",
    "from telegram.error import (TelegramError, Unauthorized, BadRequest, \n",
    "                            TimedOut, ChatMigrated, NetworkError)\n",
    "import requests\n",
    "import re\n",
    "import logging\n",
    "logging.basicConfig(format='%(asctime)s - %(name)s - %(levelname)s - %(message)s',\n",
    "                    level=logging.INFO)\n",
    "logger = logging.getLogger(__name__)"
   ]
  },
  {
   "cell_type": "code",
   "execution_count": 6,
   "metadata": {},
   "outputs": [],
   "source": [
    "def get_url():\n",
    "    contents = requests.get('https://random.dog/woof.json').json()    \n",
    "    url = contents['url']\n",
    "    return url"
   ]
  },
  {
   "cell_type": "code",
   "execution_count": 7,
   "metadata": {},
   "outputs": [],
   "source": [
    "def get_image_url():\n",
    "    allowed_extension = ['jpg','jpeg','png']\n",
    "    file_extension = ''\n",
    "    while file_extension not in allowed_extension:\n",
    "        url = get_url()\n",
    "        file_extension = re.search(\"([^.]*)$\",url).group(1).lower()\n",
    "    return url"
   ]
  },
  {
   "cell_type": "code",
   "execution_count": 8,
   "metadata": {},
   "outputs": [],
   "source": [
    "def dog(bot, update):\n",
    "    url = get_image_url()\n",
    "    chat_id = update.message.chat_id\n",
    "    bot.send_photo(chat_id=chat_id, photo=url)"
   ]
  },
  {
   "cell_type": "code",
   "execution_count": 9,
   "metadata": {},
   "outputs": [],
   "source": [
    "def start(bot, update):\n",
    "    bot.send_message(chat_id=update.message.chat_id, text='Hi!')"
   ]
  },
  {
   "cell_type": "code",
   "execution_count": 10,
   "metadata": {},
   "outputs": [],
   "source": [
    "def echo(bot, update):\n",
    "    bot.send_message(chat_id=update.message.chat_id, text=update.message.text)"
   ]
  },
  {
   "cell_type": "code",
   "execution_count": 11,
   "metadata": {},
   "outputs": [],
   "source": [
    "def ask_tmqa_1(bot, update):\n",
    "    question = update.message.text\n",
    "    logger.info(\"Processing TM2 question: \" + str(question))\n",
    "    bot.send_message(chat_id=update.message.chat_id, text=\"TMqa_1 -> Thinking about: \"+question)\n",
    "    bot.send_chat_action(chat_id=update.message.chat_id, action=ChatAction.TYPING)\n",
    "    answer = tmqa1.answer_question(question)\n",
    "    if answer:\n",
    "        top_1 = \"Top 1: \"+str(tmqa1.get_wd_label(answer[0][0]))+\" (\"+str(answer[0][0])+\")\"\n",
    "        top_n = \"Top n: \"+str([(tmqa1.get_wd_label(h[0]), h[0], h[1]) for i,h in enumerate(answer)])\n",
    "        logger.info(\"Top1 for TM2 question: \" + str(question) + \" --> \" + str(top_1))\n",
    "        bot.send_message(chat_id=update.message.chat_id, text=top_1)\n",
    "        bot.send_message(chat_id=update.message.chat_id, text=top_n)\n",
    "    else:\n",
    "        bot.send_message(chat_id=update.message.chat_id, text=\"I don't know\")\n",
    "        logger.info(\"Top1 for Convex question: \" + str(question) + \" --> I don't know\")"
   ]
  },
  {
   "cell_type": "code",
   "execution_count": 12,
   "metadata": {},
   "outputs": [],
   "source": [
    "def ask_tmqa_1_graph(bot, update, args):\n",
    "    question = \" \".join(args)\n",
    "    logger.info(\"Processing TM2 Graph question: \" + str(question))\n",
    "    bot.send_message(chat_id=update.message.chat_id, text=\"Graphic TMqa_1 -> Thinking about: \"+question)\n",
    "    bot.send_chat_action(chat_id=update.message.chat_id, action=ChatAction.TYPING)\n",
    "    \n",
    "    q_nlp = tmqa1.get_nlp(question)\n",
    "    q_themes = tmqa1.get_themes(q_nlp, top_k=3)\n",
    "    q_themes_enhanced = tmqa1.get_enhanced_themes(q_themes, top_k=3)\n",
    "    q_predicates = tmqa1.get_predicates(q_nlp, top_k=3)\n",
    "    bot.send_chat_action(chat_id=update.message.chat_id, action=ChatAction.TYPING)\n",
    "    if q_predicates:\n",
    "        if not q_predicates[0][1]: q_predicates = tmqa1.get_predicates_online(q_nlp, top_k=3)\n",
    "    q_focused_parts = tmqa1.get_focused_parts(q_nlp, top_k=3)\n",
    "    bot.send_chat_action(chat_id=update.message.chat_id, action=ChatAction.TYPING)\n",
    "    graph, predicates_dict = tmqa1.build_graph(q_nlp, q_themes, q_themes_enhanced, q_predicates, deep_k=10)\n",
    "    bot.send_chat_action(chat_id=update.message.chat_id, action=ChatAction.TYPING)\n",
    "    paths_keywords = tmqa1.find_paths_keywords(graph, q_nlp, q_themes, q_themes_enhanced, q_predicates, q_focused_parts)\n",
    "    bot.send_chat_action(chat_id=update.message.chat_id, action=ChatAction.TYPING)\n",
    "    path_nodes = tmqa1.find_path_nodes_from_graph_2(graph, paths_keywords, threshold=0.9, thres_inter=0.2, top_k=3, top_performance=50,min_paths=3000)\n",
    "    paths_nodes_filtered = tmqa1.paths_nodes_filter(path_nodes)\n",
    "    bot.send_chat_action(chat_id=update.message.chat_id, action=ChatAction.TYPING)\n",
    "    hypothesises = tmqa1.get_hypothesises(q_nlp, paths_keywords, paths_nodes_filtered)\n",
    "    \n",
    "    tmqa1.save_cache_data()\n",
    "    \n",
    "    if hypothesises: answer = hypothesises\n",
    "    else: answer = False\n",
    "\n",
    "    if answer:\n",
    "        top_1 = \"Top 1: \"+str(tmqa1.get_wd_label(answer[0][0]))+\" (\"+str(answer[0][0])+\")\"\n",
    "        top_n = \"Top n: \"+str([(tmqa1.get_wd_label(h[0]), h[0], h[1]) for i,h in enumerate(answer)])\n",
    "        answer_title = str(\"Question: \\\"\" + str(question) + \"\\\" --> \" + str(top_1))\n",
    "        logger.info(answer_title)\n",
    "        bot.send_message(chat_id=update.message.chat_id, text=top_1)\n",
    "        bot.send_message(chat_id=update.message.chat_id, text=top_n)\n",
    "    else:\n",
    "        answer_title = str(\"Question: \\\"\" + str(question) + \"\\\" --> NO ANSWER\")\n",
    "        bot.send_message(chat_id=update.message.chat_id, text=\"I don't know\")\n",
    "        logger.info(\"Top1 for Convex question: \" + str(question) + \" --> I don't know\")\n",
    "    \n",
    "    bot.send_chat_action(chat_id=update.message.chat_id, action=ChatAction.TYPING)\n",
    "    fig = plt.figure(figsize=(14,14))\n",
    "    ax = plt.subplot(111)\n",
    "    ax.set_title(answer_title, fontsize=10)\n",
    "    #pos = nx.spring_layout(graph)\n",
    "    labels, colors = tmqa1.get_elements_from_graph(graph)\n",
    "    nx.draw(graph, node_size=30, node_color=colors, font_size=10, font_weight='bold', with_labels=True, labels=labels)\n",
    "    plt.tight_layout()\n",
    "    file_name = str(\"tmqa1_graphs_imgs/\"+str(question)+\".png\")\n",
    "    plt.savefig(file_name, format=\"PNG\", dpi = 300)\n",
    "    plt.clf()\n",
    "    plt.cla()\n",
    "    plt.close()\n",
    "    bot.send_chat_action(chat_id=update.message.chat_id, action=ChatAction.TYPING)\n",
    "    bot.send_photo(chat_id=update.message.chat_id, photo=open(file_name, 'rb'))"
   ]
  },
  {
   "cell_type": "code",
   "execution_count": 13,
   "metadata": {},
   "outputs": [],
   "source": [
    "def ask_platypus(question):\n",
    "    headers = {'Accept': 'application/json','Accept-Language': 'en',}\n",
    "    params = (('q', question),('lang', 'en'))\n",
    "\n",
    "    response = requests.get('https://qa.askplatyp.us/v0/ask', headers=headers, params=params)\n",
    "    if response:\n",
    "        if type(response.json()['member']) is list:\n",
    "            #print(response.json()['member'][0]['result'])\n",
    "            if response.json()['member'] != []:\n",
    "                if '@id' in (json.dumps(response.json()['member'][0]['result'])):\n",
    "                    ps_result = (json.dumps(response.json()['member'][0]['result']['@id']))\n",
    "                else: return False\n",
    "            else: return False\n",
    "        else:\n",
    "            try:\n",
    "                if '@id' in (json.dumps(response.json()['member']['result'])):\n",
    "                    ps_result = (json.dumps(response.json()[\"member\"]['result']['@id']))\n",
    "                else: return False\n",
    "            except:\n",
    "                return False\n",
    "    else: return False\n",
    "    ps_result = ps_result[4:-1]\n",
    "    #print(result[:1])\n",
    "    if ps_result[:1] != 'P' and ps_result[:1] != 'Q':\n",
    "        return False\n",
    "    return ps_result"
   ]
  },
  {
   "cell_type": "code",
   "execution_count": 14,
   "metadata": {},
   "outputs": [],
   "source": [
    "def bot_ask_platypus(bot, update, args):\n",
    "    question = \" \".join(args)\n",
    "    logger.info(\"Processing Platypus question: \"+ str(question))\n",
    "    bot.send_message(chat_id=update.message.chat_id, text=\"Platypus -> Thinking about: \"+question)\n",
    "    bot.send_chat_action(chat_id=update.message.chat_id, action=ChatAction.TYPING)\n",
    "    answer = ask_platypus(question)\n",
    "    if answer:\n",
    "        top_1 = str(tmqa1.get_wd_label(answer))\n",
    "        logger.info(\"Top1 for Platypus question: \" + str(question) + \" --> \" + str(top_1))\n",
    "        bot.send_message(chat_id=update.message.chat_id, text=top_1)\n",
    "    else:\n",
    "        bot.send_message(chat_id=update.message.chat_id, text=\"I don't know\")\n",
    "        logger.info(\"Top1 for Convex question: \" + str(question) + \" --> I don't know\")"
   ]
  },
  {
   "cell_type": "code",
   "execution_count": 15,
   "metadata": {},
   "outputs": [],
   "source": [
    "def ask_qanswer(question):\n",
    "    data = {'query': question,'lang': 'en','kb': 'wikidata'}\n",
    "    query = requests.post('http://qanswer-core1.univ-st-etienne.fr/api/gerbil', data=data)\n",
    "    if not query:\n",
    "        return False\n",
    "    if (query.json()['questions'][0]['question']['answers']) == None:\n",
    "        return False\n",
    "    try:\n",
    "        response = (json.loads(query.json()\n",
    "                .get(\"questions\")[0]\n",
    "                .get(\"question\")\n",
    "                .get(\"answers\")\n",
    "                .replace('\\n', ''))\n",
    "         .get(\"results\").get(\"bindings\"))\n",
    "    except:\n",
    "        return False\n",
    "    \n",
    "    if response:\n",
    "        return response[0].get(\"o1\").get(\"value\")[len(\"http://www.wikidata.org/entity/\"):] if response[0].get(\"o1\") is not None else False\n",
    "    else:\n",
    "        return False"
   ]
  },
  {
   "cell_type": "code",
   "execution_count": 16,
   "metadata": {},
   "outputs": [],
   "source": [
    "def bot_ask_qanswer(bot, update, args):\n",
    "    question = \" \".join(args)\n",
    "    logger.info(\"Processing qAnswer question: \" + str(question))\n",
    "    bot.send_message(chat_id=update.message.chat_id, text=\"qAnswer -> Thinking about: \"+question)\n",
    "    bot.send_chat_action(chat_id=update.message.chat_id, action=ChatAction.TYPING)\n",
    "    answer = ask_qanswer(question)\n",
    "    if answer:\n",
    "        top_1 = str(tmqa1.get_wd_label(answer))\n",
    "        logger.info(\"Top1 for qAnswer question: \" + str(question) + \" --> \" + str(top_1))\n",
    "        bot.send_message(chat_id=update.message.chat_id, text=top_1)\n",
    "    else:\n",
    "        bot.send_message(chat_id=update.message.chat_id, text=\"I don't know\")\n",
    "        logger.info(\"Top1 for Convex question: \" + str(question) + \" --> I don't know\")"
   ]
  },
  {
   "cell_type": "code",
   "execution_count": 17,
   "metadata": {},
   "outputs": [],
   "source": [
    "def ask_convex(question):\n",
    "    cx_result = cx.answer_complete_question(question, cx.tagmeToken)['answers'][0]['answer']\n",
    "    try:\n",
    "        if not cx_result:\n",
    "            return cx_result\n",
    "        if cx_result[:1] != 'P' and cx_result[:1] != 'Q':\n",
    "            return False\n",
    "        return cx_result\n",
    "    except:\n",
    "        return False"
   ]
  },
  {
   "cell_type": "code",
   "execution_count": 18,
   "metadata": {},
   "outputs": [],
   "source": [
    "def bot_ask_convex(bot, update, args):\n",
    "    question = \" \".join(args)\n",
    "    logger.info(\"Processing Convex question: \"+ str(question))\n",
    "    bot.send_message(chat_id=update.message.chat_id, text=\"Convex -> Thinking about: \"+question)\n",
    "    bot.send_chat_action(chat_id=update.message.chat_id, action=ChatAction.TYPING)\n",
    "    answer = ask_qanswer(question)\n",
    "    if answer:\n",
    "        top_1 = str(tmqa1.get_wd_label(answer))\n",
    "        logger.info(\"Top1 for Convex question: \" + str(question) + \" --> \" + str(top_1))\n",
    "        bot.send_message(chat_id=update.message.chat_id, text=top_1)\n",
    "    else:\n",
    "        logger.info(\"Top1 for Convex question: \" + str(question) + \" --> I don't know\")\n",
    "        bot.send_message(chat_id=update.message.chat_id, text=\"I don't know\")"
   ]
  },
  {
   "cell_type": "code",
   "execution_count": 19,
   "metadata": {},
   "outputs": [],
   "source": [
    "def help(bot, update):\n",
    "    bot.send_message(chat_id=update.message.chat_id, text='ask TMqa_1: type question in the chat')\n",
    "    bot.send_message(chat_id=update.message.chat_id, text='ask TMqa_1 with a subgraph: /graph question')\n",
    "    bot.send_message(chat_id=update.message.chat_id, text='ask Platypus: /platypus question')\n",
    "    bot.send_message(chat_id=update.message.chat_id, text='ask qAnswer: /qanswer question')\n",
    "    bot.send_message(chat_id=update.message.chat_id, text='ask Convex: /convex question')"
   ]
  },
  {
   "cell_type": "code",
   "execution_count": 20,
   "metadata": {},
   "outputs": [],
   "source": [
    "import traceback\n",
    "def error_callback(bot, update, error):\n",
    "    try:\n",
    "        raise error\n",
    "    except Unauthorized:\n",
    "        error_info =\"Error -> Unauthorized: removed update.message.chat_id from conversation list\"\n",
    "        logger.info(error_info)\n",
    "        bot.send_message(chat_id=update.message.chat_id, text=error_info)\n",
    "    except BadRequest:\n",
    "        error_info = \"Error -> BadRequest: malformed requests\"\n",
    "        logger.info(error_info)\n",
    "        bot.send_message(chat_id=update.message.chat_id, text=error_info)\n",
    "    except TimedOut:\n",
    "        error_info = \"Error -> TimedOut: slow connection problems\"\n",
    "        logger.info(error_info)\n",
    "        bot.send_message(chat_id=update.message.chat_id, text=error_info)\n",
    "    except NetworkError:\n",
    "        error_info = \"Error -> NetworkError: connection problems\"\n",
    "        logger.info(error_info)\n",
    "        bot.send_message(chat_id=update.message.chat_id, text=error_info)\n",
    "    except ChatMigrated as e:\n",
    "        error_info = \"Error -> ChatMigrated: the chat_id of a group has changed, use e.new_chat_id instead\"\n",
    "        logger.info(error_info)\n",
    "        bot.send_message(chat_id=update.message.chat_id, text=error_info)\n",
    "    except TelegramError:\n",
    "        error_info = \"Error -> TelegramError: telegram related errors\"\n",
    "        logger.info(error_info)\n",
    "        bot.send_message(chat_id=update.message.chat_id, text=error_info)\n",
    "    except:\n",
    "        error_info = \"Your question generated an error, please reformulate or remove special characters.\"\n",
    "        logger.info(\"Error -> \"+error_info)\n",
    "        logger.info(traceback.format_exc())\n",
    "        bot.send_message(chat_id=update.message.chat_id, text=error_info)\n",
    "    \n",
    "        \n",
    "    #logger.info(\"Error: \" + str(update.message.text))\n",
    "    #logger.warning('Update \"%s\" caused error \"%s\"', bot, update.error)"
   ]
  },
  {
   "cell_type": "code",
   "execution_count": null,
   "metadata": {},
   "outputs": [],
   "source": []
  },
  {
   "cell_type": "code",
   "execution_count": null,
   "metadata": {},
   "outputs": [
    {
     "name": "stderr",
     "output_type": "stream",
     "text": [
      "2019-12-13 17:24:49,090 - __main__ - INFO - Processing Platypus question: Who is the wife of Barrack Obama\n",
      "2019-12-13 17:25:49,457 - __main__ - INFO - Top1 for Convex question: Who is the wife of Barrack Obama --> I don't know\n",
      "2019-12-13 17:26:10,291 - __main__ - INFO - Processing TM2 question: Who is the wife of Barrack Obama\n"
     ]
    }
   ],
   "source": [
    "updater = Updater(telegram_bot_token)\n",
    "dp = updater.dispatcher\n",
    "dp.add_handler(CommandHandler('dog',dog))\n",
    "dp.add_handler(CommandHandler('help',help))\n",
    "dp.add_handler(CommandHandler(\"platypus\", bot_ask_platypus, pass_args=True))\n",
    "dp.add_handler(CommandHandler(\"convex\", bot_ask_convex, pass_args=True))\n",
    "dp.add_handler(CommandHandler(\"qanswer\", bot_ask_qanswer, pass_args=True))\n",
    "dp.add_handler(CommandHandler(\"graph\", ask_tmqa_1_graph, pass_args=True))\n",
    "dp.add_handler(MessageHandler(Filters.text, ask_tmqa_1))\n",
    "dp.add_error_handler(error_callback)\n",
    "updater.start_polling()\n",
    "updater.idle()"
   ]
  },
  {
   "cell_type": "code",
   "execution_count": null,
   "metadata": {},
   "outputs": [],
   "source": []
  }
 ],
 "metadata": {
  "kernelspec": {
   "display_name": "Python [conda env:qa]",
   "language": "python",
   "name": "conda-env-qa-py"
  },
  "language_info": {
   "codemirror_mode": {
    "name": "ipython",
    "version": 3
   },
   "file_extension": ".py",
   "mimetype": "text/x-python",
   "name": "python",
   "nbconvert_exporter": "python",
   "pygments_lexer": "ipython3",
   "version": "3.7.5"
  }
 },
 "nbformat": 4,
 "nbformat_minor": 2
}
