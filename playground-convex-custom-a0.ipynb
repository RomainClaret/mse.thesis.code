{
 "cells": [
  {
   "cell_type": "code",
   "execution_count": 1,
   "metadata": {},
   "outputs": [],
   "source": [
    "from pprint import pprint"
   ]
  },
  {
   "cell_type": "code",
   "execution_count": 2,
   "metadata": {},
   "outputs": [],
   "source": [
    "import convex as cx"
   ]
  },
  {
   "cell_type": "code",
   "execution_count": 3,
   "metadata": {},
   "outputs": [],
   "source": [
    "import spacy\n",
    "nlp = spacy.load(\"en_core_web_lg\")"
   ]
  },
  {
   "cell_type": "code",
   "execution_count": 165,
   "metadata": {},
   "outputs": [],
   "source": [
    "questions = [ \n",
    "    \"Which actor voiced the Unicorn in The Last Unicorn?\",\n",
    "    \"And Alan Arkin was behind...?\",\n",
    "    \"And Alan Arkin be behind...? Why How when which was happy make fun\",\n",
    "    \"Who is the composer of the soundtrack?\",\n",
    "    \"So who performed the songs?\",\n",
    "    \"Genre of this band's music?\",\n",
    "    \"By the way, who was the director?\"\n",
    "            ]"
   ]
  },
  {
   "cell_type": "code",
   "execution_count": 28,
   "metadata": {},
   "outputs": [],
   "source": [
    "import time\n",
    "import json\n",
    "import requests\n",
    "\n",
    "def tagme_entities(to_tag):\n",
    "    request_successfull = False\n",
    "    print(to_tag)\n",
    "    while not request_successfull:\n",
    "        try:\n",
    "            results = json.loads(requests.get('https://tagme.d4science.org/tagme/tag?lang=en&gcube-token=' + cx.tagmeToken + '&text=' + to_tag).content)\n",
    "            request_successfull = True\n",
    "        except:\n",
    "            print(\"Error: Did you put your tagMe_token in the settings file?\")\n",
    "            print(to_tag)\n",
    "            time.sleep(5)\n",
    "    return results"
   ]
  },
  {
   "cell_type": "code",
   "execution_count": 5,
   "metadata": {},
   "outputs": [],
   "source": [
    "def get_chunked(to_chunk):\n",
    "    doc = nlp(to_chunk)\n",
    "    return [chunk.text for chunk in doc.noun_chunks]"
   ]
  },
  {
   "cell_type": "code",
   "execution_count": 29,
   "metadata": {},
   "outputs": [],
   "source": [
    "def get_entities(sentence):\n",
    "    chunked = get_chunked(sentence)\n",
    "    tagged = tagme_entities(to_tag)\n",
    "    entities = []\n",
    "    print(tagged)\n",
    "    for tag in tagged[\"annotations\"]:\n",
    "        try:\n",
    "            wikidata_ids = cx.wd.name_to_wikidata_ids(tag['title'])\n",
    "        except:\n",
    "            continue\n",
    "        for wikidata_id in wikidata_ids:\n",
    "            entities.append({'title': tag['title'], 'spot': tag['spot'], 'link_probability': tag['link_probability'], 'wikidata_id': wikidata_id})\n",
    "    return entities"
   ]
  },
  {
   "cell_type": "code",
   "execution_count": 44,
   "metadata": {},
   "outputs": [],
   "source": [
    "import time\n",
    "import json\n",
    "import requests\n",
    "\n",
    "def predicate_to_wikidata_ids(name, top_k_limit=3):\n",
    "    name = name.split('(')[0]\n",
    "\n",
    "    request_successfull = False\n",
    "    while not request_successfull:\n",
    "        try:\n",
    "            entity_ids = requests.get('https://www.wikidata.org/w/api.php?action=wbsearchentities&format=json&language=en&type=property&limit=' + str(top_k_limit) + '&search='+name).json()\n",
    "            request_successfull = True\n",
    "        except:\n",
    "            time.sleep(5)\n",
    "    results = entity_ids.get(\"search\")\n",
    "    if not results:\n",
    "        return \"\"\n",
    "    if not len(results):\n",
    "        return \"\"\n",
    "    res = []\n",
    "    for result in results:\n",
    "        res.append(result['id'])\n",
    "    return res"
   ]
  },
  {
   "cell_type": "code",
   "execution_count": 7,
   "metadata": {},
   "outputs": [],
   "source": [
    "import matplotlib.pyplot as plt\n",
    "%matplotlib inline\n",
    "\n",
    "colors_dict = {'predicate': 'red',\n",
    "               'entity': 'yellow'}\n",
    "\n",
    "# Building labels for graph\n",
    "def get_labels_from_graph(graph):\n",
    "    labels = dict()\n",
    "    node_names = [n for n in graph.nodes()]\n",
    "    for i, node in enumerate(node_names):\n",
    "        position = node.find(\"-\")\n",
    "        if position >= 0:\n",
    "            node_src = node\n",
    "            node = node[:position]\n",
    "            node_names[i] = node[:position]\n",
    "            labels[node_src] = str(cx.wd.wikidata_id_to_label(node))\n",
    "        else:\n",
    "            labels[node] = str(cx.wd.wikidata_id_to_label(node))\n",
    "    return labels\n",
    "\n",
    "# Plotting the graph\n",
    "def plot_graph(graph, name, title=\"Graph\"):\n",
    "    fig = plt.figure(figsize=(10,10))\n",
    "    ax = plt.subplot(111)\n",
    "    ax.set_title(str(\"answer: \"+title), fontsize=10)\n",
    "    pos = nx.spring_layout(graph)\n",
    "    nx.draw(graph, pos, node_size=50, node_color='yellow', font_size=10, font_weight='bold', with_labels=True, labels=get_labels_from_graph(graph))\n",
    "    plt.tight_layout()\n",
    "    plt.savefig(str(name)+\".png\", format=\"PNG\")\n",
    "    plt.show()"
   ]
  },
  {
   "cell_type": "code",
   "execution_count": 56,
   "metadata": {},
   "outputs": [
    {
     "data": {
      "text/plain": [
       "[['Which actor', 'the Unicorn', 'The Last Unicorn'],\n",
       " ['Alan Arkin'],\n",
       " ['Who', 'the composer', 'the soundtrack'],\n",
       " ['who', 'the songs'],\n",
       " ['Genre', \"this band's music\"],\n",
       " ['the way', 'who', 'the director']]"
      ]
     },
     "execution_count": 56,
     "metadata": {},
     "output_type": "execute_result"
    }
   ],
   "source": [
    "[get_chunked(q) for q in questions]"
   ]
  },
  {
   "cell_type": "code",
   "execution_count": 94,
   "metadata": {},
   "outputs": [],
   "source": [
    "def get_sub_sentences(question):\n",
    "    doc = nlp(question)\n",
    "\n",
    "    chunked = [chunk.text for chunk in doc.noun_chunks]\n",
    "    chunked_ids = [cx.wd.name_to_wikidata_ids(chunk) for chunk in chunked]\n",
    "\n",
    "    main_themes = []\n",
    "    theme_complement = []\n",
    "    for i, theme in enumerate(chunked_ids):\n",
    "        if theme != \"\": main_themes.append(theme)\n",
    "        else: theme_complement.append(chunked[i])\n",
    "    \n",
    "    return doc, chunked, main_themes, theme_complement"
   ]
  },
  {
   "cell_type": "code",
   "execution_count": 166,
   "metadata": {},
   "outputs": [
    {
     "data": {
      "text/plain": [
       "(Which actor voiced the Unicorn in The Last Unicorn?,\n",
       " ['Which actor', 'the Unicorn', 'The Last Unicorn'],\n",
       " [['Q14834367', 'Q22278930', 'Q65070436'], ['Q176198', 'Q967268', 'Q7746145']],\n",
       " ['Which actor'])"
      ]
     },
     "execution_count": 166,
     "metadata": {},
     "output_type": "execute_result"
    }
   ],
   "source": [
    "sub_sentences = [get_sub_sentences(q) for q in questions]\n",
    "sub_sentences[0]"
   ]
  },
  {
   "cell_type": "code",
   "execution_count": 100,
   "metadata": {},
   "outputs": [
    {
     "data": {
      "text/plain": [
       "[('And', be, 'CC', 'CCONJ'),\n",
       " ('Alan', Arkin, 'NNP', 'PROPN'),\n",
       " ('Arkin', be, 'NNP', 'PROPN'),\n",
       " ('be', be, 'VBP', 'VERB'),\n",
       " ('behind', be, 'RB', 'ADV'),\n",
       " ('...', be, 'NFP', 'PUNCT'),\n",
       " ('?', be, '.', 'PUNCT')]"
      ]
     },
     "execution_count": 100,
     "metadata": {},
     "output_type": "execute_result"
    }
   ],
   "source": [
    "[(token.text,token.head, token.tag_, token.pos_) for token in sub_sentences[2][0]]"
   ]
  },
  {
   "cell_type": "code",
   "execution_count": 168,
   "metadata": {},
   "outputs": [],
   "source": [
    "def get_predicates_from_sentence(sentence, top_k=3):\n",
    "    #print(\"sentence: \", sentence)\n",
    "    predicates = [(token) for token in sentence if token.pos_ == \"VERB\" or token.pos_ == \"AUX\"]\n",
    "    #print(\"predicates: \",predicates)\n",
    "    \n",
    "    if predicates:\n",
    "        predicates_ids = list(set(predicate_to_wikidata_ids(predicates[0].text, top_k)))\n",
    "        print([(predicate, cx.wd.wikidata_id_to_label(predicate)) for predicate in predicates_ids])\n",
    "    \n",
    "    return predicates"
   ]
  },
  {
   "cell_type": "code",
   "execution_count": 169,
   "metadata": {},
   "outputs": [
    {
     "name": "stdout",
     "output_type": "stream",
     "text": [
      "[('P725', 'voice actor')]\n",
      "[('P1196', 'manner of death'), ('P641', 'sport'), ('P31', 'instance of')]\n",
      "[('P580', 'start date'), ('P1001', 'applies to jurisdiction'), ('P155', 'follows')]\n",
      "[('P131', 'is in the administrative unit'), ('P31', 'instance of'), ('P433', 'issue')]\n",
      "[]\n",
      "[('P1196', 'manner of death'), ('P641', 'sport'), ('P31', 'instance of')]\n"
     ]
    },
    {
     "data": {
      "text/plain": [
       "[[voiced], [was], [be, was, make], [is], [performed], [], [was]]"
      ]
     },
     "execution_count": 169,
     "metadata": {},
     "output_type": "execute_result"
    }
   ],
   "source": [
    "#predicates_for_sub_sentences = []\n",
    "predicates_ids = [get_predicates_from_sentence(s[0]) for s in sub_sentences]\n",
    "predicates_ids"
   ]
  },
  {
   "cell_type": "code",
   "execution_count": 115,
   "metadata": {},
   "outputs": [
    {
     "data": {
      "text/plain": [
       "[[Which, actor, voiced, the, Unicorn, in, The, Last, Unicorn, ?],\n",
       " [And, Alan, Arkin, was, behind, ..., ?],\n",
       " [And, Alan, Arkin, be, behind, ..., ?],\n",
       " [Who, is, the, composer, of, the, soundtrack, ?],\n",
       " [So, who, performed, the, songs, ?],\n",
       " [Genre, of, this, band, 's, music, ?],\n",
       " [By, the, way, ,, who, was, the, director, ?]]"
      ]
     },
     "execution_count": 115,
     "metadata": {},
     "output_type": "execute_result"
    }
   ],
   "source": [
    "[[t for t in s[0]] for s in sub_sentences]"
   ]
  },
  {
   "cell_type": "code",
   "execution_count": 153,
   "metadata": {},
   "outputs": [
    {
     "data": {
      "text/plain": [
       "[[Which], [], [Why, How, when, which], [Who], [who], [], [who]]"
      ]
     },
     "execution_count": 153,
     "metadata": {},
     "output_type": "execute_result"
    }
   ],
   "source": [
    "interogrative_dets = [[t for t in s[0] if t.tag_ == \"WDT\" or t.tag_ == \"WP\" or t.tag_ == \"WP$\" or t.tag_ == \"WRB\"] for s in sub_sentences]\n",
    "interogrative_dets"
   ]
  },
  {
   "cell_type": "code",
   "execution_count": 155,
   "metadata": {},
   "outputs": [
    {
     "data": {
      "text/plain": [
       "[Why, when, Why, when]"
      ]
     },
     "execution_count": 155,
     "metadata": {},
     "output_type": "execute_result"
    }
   ],
   "source": [
    "[d.head for d in interogrative_dets[2] if d]"
   ]
  },
  {
   "cell_type": "code",
   "execution_count": 158,
   "metadata": {},
   "outputs": [
    {
     "data": {
      "text/plain": [
       "[Why, when, Why, when]"
      ]
     },
     "execution_count": 158,
     "metadata": {},
     "output_type": "execute_result"
    }
   ],
   "source": [
    "interogative_noun = [noun.head for noun in interogrative_dets[2]]\n",
    "interogative_noun"
   ]
  },
  {
   "cell_type": "code",
   "execution_count": 171,
   "metadata": {},
   "outputs": [
    {
     "ename": "TypeError",
     "evalue": "Argument 'other' has incorrect type (expected spacy.tokens.token.Token, got list)",
     "output_type": "error",
     "traceback": [
      "\u001b[0;31m---------------------------------------------------------------------------\u001b[0m",
      "\u001b[0;31mTypeError\u001b[0m                                 Traceback (most recent call last)",
      "\u001b[0;32m<ipython-input-171-418d4efbe0a1>\u001b[0m in \u001b[0;36m<module>\u001b[0;34m\u001b[0m\n\u001b[0;32m----> 1\u001b[0;31m \u001b[0mrelated_noun_to_predicate\u001b[0m \u001b[0;34m=\u001b[0m \u001b[0;34m[\u001b[0m\u001b[0mnoun\u001b[0m \u001b[0;32mfor\u001b[0m \u001b[0mnoun\u001b[0m \u001b[0;32min\u001b[0m \u001b[0mdoc\u001b[0m \u001b[0;32mif\u001b[0m \u001b[0mnoun\u001b[0m\u001b[0;34m.\u001b[0m\u001b[0mhead\u001b[0m \u001b[0;34m==\u001b[0m \u001b[0mpredicates_ids\u001b[0m \u001b[0;32mand\u001b[0m \u001b[0mnoun\u001b[0m \u001b[0;34m!=\u001b[0m \u001b[0minterogative_noun\u001b[0m\u001b[0;34m[\u001b[0m\u001b[0;36m0\u001b[0m\u001b[0;34m]\u001b[0m \u001b[0;32mand\u001b[0m \u001b[0;34m(\u001b[0m\u001b[0mnoun\u001b[0m\u001b[0;34m.\u001b[0m\u001b[0mpos_\u001b[0m \u001b[0;34m==\u001b[0m \u001b[0;34m\"NOUN\"\u001b[0m \u001b[0;32mor\u001b[0m \u001b[0mnoun\u001b[0m\u001b[0;34m.\u001b[0m\u001b[0mpos_\u001b[0m \u001b[0;34m==\u001b[0m \u001b[0;34m\"PROPN\"\u001b[0m\u001b[0;34m)\u001b[0m\u001b[0;34m]\u001b[0m\u001b[0;34m\u001b[0m\u001b[0;34m\u001b[0m\u001b[0m\n\u001b[0m\u001b[1;32m      2\u001b[0m \u001b[0mrelated_noun_to_predicate\u001b[0m\u001b[0;34m\u001b[0m\u001b[0;34m\u001b[0m\u001b[0m\n",
      "\u001b[0;32m<ipython-input-171-418d4efbe0a1>\u001b[0m in \u001b[0;36m<listcomp>\u001b[0;34m(.0)\u001b[0m\n\u001b[0;32m----> 1\u001b[0;31m \u001b[0mrelated_noun_to_predicate\u001b[0m \u001b[0;34m=\u001b[0m \u001b[0;34m[\u001b[0m\u001b[0mnoun\u001b[0m \u001b[0;32mfor\u001b[0m \u001b[0mnoun\u001b[0m \u001b[0;32min\u001b[0m \u001b[0mdoc\u001b[0m \u001b[0;32mif\u001b[0m \u001b[0mnoun\u001b[0m\u001b[0;34m.\u001b[0m\u001b[0mhead\u001b[0m \u001b[0;34m==\u001b[0m \u001b[0mpredicates_ids\u001b[0m \u001b[0;32mand\u001b[0m \u001b[0mnoun\u001b[0m \u001b[0;34m!=\u001b[0m \u001b[0minterogative_noun\u001b[0m\u001b[0;34m[\u001b[0m\u001b[0;36m0\u001b[0m\u001b[0;34m]\u001b[0m \u001b[0;32mand\u001b[0m \u001b[0;34m(\u001b[0m\u001b[0mnoun\u001b[0m\u001b[0;34m.\u001b[0m\u001b[0mpos_\u001b[0m \u001b[0;34m==\u001b[0m \u001b[0;34m\"NOUN\"\u001b[0m \u001b[0;32mor\u001b[0m \u001b[0mnoun\u001b[0m\u001b[0;34m.\u001b[0m\u001b[0mpos_\u001b[0m \u001b[0;34m==\u001b[0m \u001b[0;34m\"PROPN\"\u001b[0m\u001b[0;34m)\u001b[0m\u001b[0;34m]\u001b[0m\u001b[0;34m\u001b[0m\u001b[0;34m\u001b[0m\u001b[0m\n\u001b[0m\u001b[1;32m      2\u001b[0m \u001b[0mrelated_noun_to_predicate\u001b[0m\u001b[0;34m\u001b[0m\u001b[0;34m\u001b[0m\u001b[0m\n",
      "\u001b[0;31mTypeError\u001b[0m: Argument 'other' has incorrect type (expected spacy.tokens.token.Token, got list)"
     ]
    }
   ],
   "source": [
    "\n",
    "\n",
    "related_noun_to_predicate = [noun for noun in doc if noun.head == predicates_ids and noun != interogative_noun[0] and (noun.pos_ == \"NOUN\" or noun.pos_ == \"PROPN\")]\n",
    "related_noun_to_predicate"
   ]
  },
  {
   "cell_type": "code",
   "execution_count": 214,
   "metadata": {},
   "outputs": [
    {
     "data": {
      "text/plain": [
       "['Q7246', 'Q1565614', 'Q20983877']"
      ]
     },
     "execution_count": 214,
     "metadata": {},
     "output_type": "execute_result"
    }
   ],
   "source": [
    "# interogative_noun -> predicates -> related_noun_to_predicate -> main_themes\n",
    "related_noun_to_predicate_id = cx.wd.name_to_wikidata_ids(related_noun_to_predicate[0].text)\n",
    "related_noun_to_predicate_id"
   ]
  },
  {
   "cell_type": "code",
   "execution_count": 433,
   "metadata": {},
   "outputs": [],
   "source": [
    "def get_best_statement_from_chunks_with_qualifiers(chunked_ids, to_find, qualifier_type):\n",
    "    highest_matching_similarity = -1\n",
    "    best_statement = \"\"\n",
    "    \n",
    "    for chunk in chunked_ids:\n",
    "        for c in chunk:\n",
    "            if cx.wd.wikidata_id_to_label(c) != None:\n",
    "                statements = cx.wd.get_all_statements_of_entity(c)\n",
    "                #print(statements)\n",
    "                for statement in statements:\n",
    "                    if statement.get('qualifiers'):\n",
    "                        for qualifier in statement['qualifiers']:\n",
    "                            matching_similarity = cx.spacy.similarity_word2vec(to_find, cx.wd.wikidata_id_to_label(qualifier[qualifier_type]['id']))\n",
    "                            if highest_matching_similarity == -1 or matching_similarity > highest_matching_similarity:\n",
    "                                highest_matching_similarity = matching_similarity\n",
    "                                best_statement = statement\n",
    "\n",
    "    return highest_matching_similarity, best_statement"
   ]
  },
  {
   "cell_type": "code",
   "execution_count": 434,
   "metadata": {},
   "outputs": [],
   "source": [
    "def get_best_statement_from_chunks(chunked_ids, to_find, statement_type):\n",
    "    highest_matching_similarity = -1\n",
    "    best_statement = \"\"\n",
    "\n",
    "    for chunk in chunked_ids:\n",
    "        for c in chunk:\n",
    "            if cx.wd.wikidata_id_to_label(c) != None:\n",
    "                statements = cx.wd.get_all_statements_of_entity(c)\n",
    "                for statement in statements:\n",
    "                    matching_similarity = cx.spacy.similarity_word2vec(to_find, cx.wd.wikidata_id_to_label(statement[statement_type]['id']))\n",
    "                    if highest_matching_similarity == -1 or matching_similarity > highest_matching_similarity:\n",
    "                        highest_matching_similarity = matching_similarity\n",
    "                        best_statement = statement\n",
    "    \n",
    "    return highest_matching_similarity, best_statement"
   ]
  },
  {
   "cell_type": "code",
   "execution_count": 526,
   "metadata": {},
   "outputs": [],
   "source": [
    "predicates = [cx.wd.wikidata_id_to_label(p) for p in predicates_id]\n",
    "noun_to_predicates = [cx.wd.wikidata_id_to_label(n) for n in related_noun_to_predicate_id]\n",
    "main_topics = [item for sublist in main_themes for item in sublist]"
   ]
  },
  {
   "cell_type": "code",
   "execution_count": 532,
   "metadata": {},
   "outputs": [
    {
     "data": {
      "text/plain": [
       "[(1.0,\n",
       "  {'entity': {'id': 'Q176198'},\n",
       "   'predicate': {'id': 'P725'},\n",
       "   'object': {'id': 'Q202725'}}),\n",
       " (1.0,\n",
       "  {'entity': {'id': 'Q176198'},\n",
       "   'predicate': {'id': 'P144'},\n",
       "   'object': {'id': 'Q967268'}}),\n",
       " (0.6838807705173462,\n",
       "  {'entity': {'id': 'Q176198'},\n",
       "   'predicate': {'id': 'P725'},\n",
       "   'object': {'id': 'Q3090544'},\n",
       "   'qualifiers': [{'qualifier_predicate': {'id': 'P453'},\n",
       "     'qualifier_object': {'id': 'Q30060811'}}]}),\n",
       " (0.6485193941397088,\n",
       "  {'entity': {'id': 'Q176198'},\n",
       "   'predicate': {'id': 'P136'},\n",
       "   'object': {'id': 'Q28968511'},\n",
       "   'qualifiers': []}),\n",
       " (0.633362753908819,\n",
       "  {'entity': {'id': 'Q176198'},\n",
       "   'predicate': {'id': 'P1877'},\n",
       "   'object': {'id': 'Q285007'},\n",
       "   'qualifiers': []}),\n",
       " (0.5881755381030452,\n",
       "  {'entity': {'id': 'Q14834367'},\n",
       "   'predicate': {'id': 'P54'},\n",
       "   'object': {'id': 'Q54930'},\n",
       "   'qualifiers': [{'qualifier_predicate': {'id': 'P580'},\n",
       "     'qualifier_object': {'id': '2012-01-01T00:00:00Z'}},\n",
       "    {'qualifier_predicate': {'id': 'P582'},\n",
       "     'qualifier_object': {'id': '2015-01-01T00:00:00Z'}}]}),\n",
       " (0.5479827824525565,\n",
       "  {'entity': {'id': 'Q176198'},\n",
       "   'predicate': {'id': 'P31'},\n",
       "   'object': {'id': 'Q29168811'}}),\n",
       " (0.5135292216758595,\n",
       "  {'entity': {'id': 'Q14834367'},\n",
       "   'predicate': {'id': 'P19'},\n",
       "   'object': {'id': 'Q167668'},\n",
       "   'qualifiers': []}),\n",
       " (0.3071477722441497,\n",
       "  {'entity': {'id': 'Q22278930'},\n",
       "   'predicate': {'id': 'P608'},\n",
       "   'object': {'id': 'Q20980830'},\n",
       "   'qualifiers': [{'qualifier_predicate': {'id': 'P17'},\n",
       "     'qualifier_object': {'id': 'Q31'}}]}),\n",
       " (0.2708101899301946,\n",
       "  {'entity': {'id': 'Q176198'},\n",
       "   'predicate': {'id': 'P345'},\n",
       "   'object': {'id': 'tt0084237'}}),\n",
       " (0.23837230499121118,\n",
       "  {'entity': {'id': 'Q176198'},\n",
       "   'predicate': {'id': 'P646'},\n",
       "   'object': {'id': '/m/01tfy7'},\n",
       "   'qualifiers': [{'qualifier_predicate': {'id': 'P646'},\n",
       "     'qualifier_object': {'id': 'http://g.co/kg/m/01tfy7'}}]}),\n",
       " (0.1259306204914543,\n",
       "  {'entity': {'id': 'Q967268'},\n",
       "   'predicate': {'id': 'P166'},\n",
       "   'object': {'id': 'Q20899118'},\n",
       "   'qualifiers': [{'qualifier_predicate': {'id': 'P1545'},\n",
       "     'qualifier_object': {'id': '55'}}]})]"
      ]
     },
     "execution_count": 532,
     "metadata": {},
     "output_type": "execute_result"
    }
   ],
   "source": [
    "to_run = predicates + chunked + noun_to_predicates + main_topics\n",
    "best_statements = []\n",
    "\n",
    "for r in to_run:\n",
    "    best_statements.append(get_best_statement_from_chunks_with_qualifiers(chunked_ids, r, \"qualifier_predicate\"))\n",
    "    best_statements.append(get_best_statement_from_chunks_with_qualifiers(chunked_ids, r, \"qualifier_object\"))\n",
    "    best_statements.append(get_best_statement_from_chunks(chunked_ids, r, \"predicate\"))\n",
    "    best_statements.append(get_best_statement_from_chunks(chunked_ids, r, \"object\"))\n",
    "\n",
    "best_statements_filtered = []\n",
    "[best_statements_filtered.append(s) for s in sorted(best_statements, key=lambda x: x[0], reverse=True) if s[0]>0 and s[1] not in [e[1] for e in best_statements_filtered]]\n",
    "best_statements_filtered"
   ]
  },
  {
   "cell_type": "code",
   "execution_count": 533,
   "metadata": {},
   "outputs": [
    {
     "data": {
      "text/plain": [
       "[{'entity': {'id': 'Q176198'},\n",
       "  'predicate': {'id': 'P725'},\n",
       "  'object': {'id': 'Q202725'}},\n",
       " {'entity': {'id': 'Q176198'},\n",
       "  'predicate': {'id': 'P144'},\n",
       "  'object': {'id': 'Q967268'}},\n",
       " {'entity': {'id': 'Q176198'},\n",
       "  'predicate': {'id': 'P453'},\n",
       "  'object': {'id': 'Q30060811'}},\n",
       " {'entity': {'id': 'Q176198'},\n",
       "  'predicate': {'id': 'P725'},\n",
       "  'object': {'id': 'Q3090544'}},\n",
       " {'entity': {'id': 'Q176198'},\n",
       "  'predicate': {'id': 'P136'},\n",
       "  'object': {'id': 'Q28968511'},\n",
       "  'qualifiers': []},\n",
       " {'entity': {'id': 'Q176198'},\n",
       "  'predicate': {'id': 'P1877'},\n",
       "  'object': {'id': 'Q285007'},\n",
       "  'qualifiers': []},\n",
       " {'entity': {'id': 'Q14834367'},\n",
       "  'predicate': {'id': 'P580'},\n",
       "  'object': {'id': '2012-01-01T00:00:00Z'}},\n",
       " {'entity': {'id': 'Q14834367'},\n",
       "  'predicate': {'id': 'P582'},\n",
       "  'object': {'id': '2015-01-01T00:00:00Z'}},\n",
       " {'entity': {'id': 'Q14834367'},\n",
       "  'predicate': {'id': 'P54'},\n",
       "  'object': {'id': 'Q54930'}},\n",
       " {'entity': {'id': 'Q176198'},\n",
       "  'predicate': {'id': 'P31'},\n",
       "  'object': {'id': 'Q29168811'}},\n",
       " {'entity': {'id': 'Q14834367'},\n",
       "  'predicate': {'id': 'P19'},\n",
       "  'object': {'id': 'Q167668'},\n",
       "  'qualifiers': []},\n",
       " {'entity': {'id': 'Q22278930'},\n",
       "  'predicate': {'id': 'P17'},\n",
       "  'object': {'id': 'Q31'}},\n",
       " {'entity': {'id': 'Q22278930'},\n",
       "  'predicate': {'id': 'P608'},\n",
       "  'object': {'id': 'Q20980830'}},\n",
       " {'entity': {'id': 'Q176198'},\n",
       "  'predicate': {'id': 'P345'},\n",
       "  'object': {'id': 'tt0084237'}},\n",
       " {'entity': {'id': 'Q176198'},\n",
       "  'predicate': {'id': 'P646'},\n",
       "  'object': {'id': 'http://g.co/kg/m/01tfy7'}},\n",
       " {'entity': {'id': 'Q176198'},\n",
       "  'predicate': {'id': 'P646'},\n",
       "  'object': {'id': '/m/01tfy7'}},\n",
       " {'entity': {'id': 'Q967268'},\n",
       "  'predicate': {'id': 'P1545'},\n",
       "  'object': {'id': '55'}},\n",
       " {'entity': {'id': 'Q967268'},\n",
       "  'predicate': {'id': 'P166'},\n",
       "  'object': {'id': 'Q20899118'}}]"
      ]
     },
     "execution_count": 533,
     "metadata": {},
     "output_type": "execute_result"
    }
   ],
   "source": [
    "from copy import copy\n",
    "\n",
    "best_statements_to_graph = []\n",
    "\n",
    "for statement in best_statements_filtered:\n",
    "    tmp_statement = copy(statement[1])\n",
    "    \n",
    "    if statement[1].get('qualifiers'):\n",
    "        for q in tmp_statement['qualifiers']:\n",
    "            qualifier_statement = {'entity': {'id': tmp_statement['entity']['id']}}\n",
    "            qualifier_statement['predicate'] = {'id': q['qualifier_predicate']['id']}\n",
    "            qualifier_statement['object'] = {'id': q['qualifier_object']['id']}\n",
    "            best_statements_to_graph.append(qualifier_statement)\n",
    "        del(tmp_statement['qualifiers'])\n",
    "        \n",
    "    best_statements_to_graph.append(tmp_statement)\n",
    "    \n",
    "\n",
    "best_statements_to_graph"
   ]
  },
  {
   "cell_type": "code",
   "execution_count": 642,
   "metadata": {},
   "outputs": [],
   "source": [
    "def get_best_statements_filtered(chunked_ids, ro_run):\n",
    "    best_statements = []\n",
    "\n",
    "    for r in to_run:\n",
    "        best_statements.append(get_best_statement_from_chunks_with_qualifiers(chunked_ids, r, \"qualifier_predicate\"))\n",
    "        best_statements.append(get_best_statement_from_chunks_with_qualifiers(chunked_ids, r, \"qualifier_object\"))\n",
    "        best_statements.append(get_best_statement_from_chunks(chunked_ids, r, \"predicate\"))\n",
    "        best_statements.append(get_best_statement_from_chunks(chunked_ids, r, \"object\"))\n",
    "\n",
    "    best_statements_filtered = []\n",
    "    [best_statements_filtered.append(s) for s in sorted(best_statements, key=lambda x: x[0], reverse=True) if s[0]>0 and s[1] not in [e[1] for e in best_statements_filtered]]\n",
    "    return best_statements_filtered"
   ]
  },
  {
   "cell_type": "code",
   "execution_count": 644,
   "metadata": {},
   "outputs": [
    {
     "data": {
      "text/plain": [
       "['',\n",
       " ['Q14834367', 'Q22278930', 'Q65070436'],\n",
       " ['Q176198', 'Q967268', 'Q7746145']]"
      ]
     },
     "execution_count": 644,
     "metadata": {},
     "output_type": "execute_result"
    }
   ],
   "source": [
    "chunked_ids"
   ]
  },
  {
   "cell_type": "code",
   "execution_count": null,
   "metadata": {},
   "outputs": [],
   "source": [
    "cx.wd.get_all_statements_of_entity()"
   ]
  },
  {
   "cell_type": "code",
   "execution_count": 757,
   "metadata": {},
   "outputs": [],
   "source": [
    "from copy import copy\n",
    "\n",
    "def statements_to_graph(statements):\n",
    "    best_statements_to_graph = []\n",
    "\n",
    "    for statement in statements:\n",
    "        tmp_statement = copy(statement)\n",
    "        \n",
    "        if tmp_statement.get('qualifiers'):\n",
    "            for q in tmp_statement['qualifiers']:\n",
    "                qualifier_statement = {'entity': {'id': tmp_statement['entity']['id']}}\n",
    "                qualifier_statement['predicate'] = {'id': q['qualifier_predicate']['id']}\n",
    "                qualifier_statement['object'] = {'id': q['qualifier_object']['id']}\n",
    "                best_statements_to_graph.append(qualifier_statement)\n",
    "            del(tmp_statement['qualifiers'])\n",
    "        else: \n",
    "            if ('qualifiers' in tmp_statement): del(tmp_statement['qualifiers'])\n",
    "\n",
    "        best_statements_to_graph.append(tmp_statement)\n",
    "\n",
    "    return best_statements_to_graph"
   ]
  },
  {
   "cell_type": "code",
   "execution_count": 807,
   "metadata": {},
   "outputs": [],
   "source": [
    "def get_statements_from_predicate(statements):\n",
    "    predicated_statements = []\n",
    "    for s in statements:\n",
    "        if s[\"entity\"][\"id\"] in [p for p in main_topics]:\n",
    "            predicated_statements += cx.wd.get_all_statements_of_entity(s[\"entity\"][\"id\"])\n",
    "\n",
    "    return [t for t in predicated_statements if t['predicate']['id'] == predicates_id[0]]\n",
    "\n",
    "\n",
    "test = statements_to_graph(get_statements_from_predicate(best_statements_to_graph))"
   ]
  },
  {
   "cell_type": "code",
   "execution_count": 774,
   "metadata": {},
   "outputs": [
    {
     "data": {
      "text/plain": [
       "'P725'"
      ]
     },
     "execution_count": 774,
     "metadata": {},
     "output_type": "execute_result"
    }
   ],
   "source": [
    "predicates_id[0]"
   ]
  },
  {
   "cell_type": "code",
   "execution_count": 795,
   "metadata": {},
   "outputs": [
    {
     "data": {
      "text/plain": [
       "['Q14834367', 'Q22278930', 'Q65070436', 'Q176198', 'Q967268', 'Q7746145']"
      ]
     },
     "execution_count": 795,
     "metadata": {},
     "output_type": "execute_result"
    }
   ],
   "source": [
    "[p for p in main_topics]"
   ]
  },
  {
   "cell_type": "code",
   "execution_count": 673,
   "metadata": {},
   "outputs": [
    {
     "data": {
      "text/plain": [
       "['Q14834367', 'Q22278930', 'Q65070436', 'Q176198', 'Q967268', 'Q7746145']"
      ]
     },
     "execution_count": 673,
     "metadata": {},
     "output_type": "execute_result"
    }
   ],
   "source": [
    "main_topics"
   ]
  },
  {
   "cell_type": "code",
   "execution_count": 808,
   "metadata": {},
   "outputs": [
    {
     "data": {
      "image/png": "[encoded data removed]",
      "text/plain": [
       "<Figure size 720x720 with 1 Axes>"
      ]
     },
     "metadata": {},
     "output_type": "display_data"
    }
   ],
   "source": [
    "import networkx as nx\n",
    "\n",
    "graph = nx.Graph()\n",
    "turn = 1\n",
    "predicate_nodes = {}\n",
    "\n",
    "for statement in test:\n",
    "    if not statement['entity']['id'] in graph:\n",
    "        graph.add_node(statement['entity']['id'], type='entity', turn=turn)\n",
    "    if not statement['object']['id'] in graph:\n",
    "        graph.add_node(statement['object']['id'], type='entity', turn=turn)\n",
    "    \n",
    "    # get current index of predicate used\n",
    "    if not predicate_nodes.get(statement['predicate']['id']):\n",
    "        predicate_nodes_index = 0\n",
    "        predicate_nodes[statement['predicate']['id']] = 0\n",
    "    else:\n",
    "        # the predicate already occured => fetch the next index available and increase the saved one\n",
    "        predicate_index = predicate_nodes[statement['predicate']['id']]\n",
    "        predicate_nodes[statement['predicate']['id']] += 1\n",
    "\n",
    "    # add the predicate node\n",
    "    predicate_node_id = (statement['predicate']['id'] + \"-\" + str(predicate_index))\n",
    "    graph.add_node(predicate_node_id, type='predicate', turn=turn)\n",
    "    \n",
    "    # add the two edges (entity->predicate->object)\n",
    "    graph.add_edge(statement['entity']['id'], predicate_node_id)\n",
    "    graph.add_edge(predicate_node_id, statement['object']['id'])\n",
    "    \n",
    "plot_graph(graph, \"file_name_graph\", \"Graph_title\")"
   ]
  },
  {
   "cell_type": "code",
   "execution_count": 571,
   "metadata": {},
   "outputs": [
    {
     "data": {
      "text/plain": [
       "('Q176198', 8)"
      ]
     },
     "execution_count": 571,
     "metadata": {},
     "output_type": "execute_result"
    }
   ],
   "source": [
    "#graph.degree()\n",
    "max(dict(graph.degree()).items(), key = lambda x : x[1])"
   ]
  },
  {
   "cell_type": "code",
   "execution_count": 611,
   "metadata": {},
   "outputs": [
    {
     "data": {
      "text/plain": [
       "[EdgeDataView([('P725-0', 'Q176198'), ('P725-0', 'Q202725'), ('P725-0', 'Q3090544')])]"
      ]
     },
     "execution_count": 611,
     "metadata": {},
     "output_type": "execute_result"
    }
   ],
   "source": [
    "[graph.edges(e + \"-\" + str(0)) for e in predicates_id]"
   ]
  },
  {
   "cell_type": "code",
   "execution_count": 620,
   "metadata": {},
   "outputs": [
    {
     "data": {
      "text/plain": [
       "'P725'"
      ]
     },
     "execution_count": 620,
     "metadata": {},
     "output_type": "execute_result"
    }
   ],
   "source": [
    "[p for p in predicates_id][0]"
   ]
  },
  {
   "cell_type": "code",
   "execution_count": 631,
   "metadata": {},
   "outputs": [
    {
     "data": {
      "text/plain": [
       "[('Q176198', 'P725-0'), ('Q202725', 'P725-0'), ('P725-0', 'Q3090544')]"
      ]
     },
     "execution_count": 631,
     "metadata": {},
     "output_type": "execute_result"
    }
   ],
   "source": [
    "verb_related_nodes = [e for e in list(graph.edges) if e[0].find([p for p in predicates_id][0])==False or e[1].find([p for p in predicates_id][0])==False]\n",
    "verb_related_nodes"
   ]
  },
  {
   "cell_type": "code",
   "execution_count": 633,
   "metadata": {},
   "outputs": [
    {
     "data": {
      "text/plain": [
       "<function tuple.index(value, start=0, stop=9223372036854775807, /)>"
      ]
     },
     "execution_count": 633,
     "metadata": {},
     "output_type": "execute_result"
    }
   ],
   "source": [
    "for entity in verb_related_nodes:\n",
    "    "
   ]
  },
  {
   "cell_type": "code",
   "execution_count": 71,
   "metadata": {},
   "outputs": [],
   "source": [
    "# remove all unnecessary words of the question to avoid noise in the similarity-computation\n",
    "def shorten_question_for_predicate_similarity(question, entity_spot):\n",
    "    # remove the spot of the entity\n",
    "    question = question.replace(entity_spot, \"\")\n",
    "    # remove symbols\n",
    "    question = question.replace(',', '').replace('!', '').replace('?', '').replace('.', '').replace(\"'\", '').replace('\"', '').replace(':','').replace('’', '')\n",
    "    # expand the question by whitespaces to be able to find the stopwords\n",
    "    question = (\" \" + question + \" \").lower()\n",
    "    # remove stopwords\n",
    "    for stopword in cx.string.stopwords:\n",
    "        question = question.replace(\" \"+stopword+\" \", \" \")\n",
    "    # replace w words, but still keep the information in the question\n",
    "    question = question.replace(\" where \", \" location \")\n",
    "    question = question.replace(\" wheres \", \" location \")\n",
    "    question = question.replace(\" when \", \" date \")\n",
    "    question = question.replace(\" whens \", \" date \")\n",
    "    question = question.replace(\" who \", \" person \")\n",
    "    question = question.replace(\" whos \", \" person \")\n",
    "    question = question.replace(\" why \", \" cause \")\n",
    "    question = question.replace(\" whys \", \" cause \")\n",
    "    # wikidata does not give the accuracy of the date (year, month, ...)\n",
    "    question = question.replace('year', 'date')\n",
    "    # remove remaining s from plural or possesive expressions\n",
    "    question = question.replace(' s ', ' ')\n",
    "    # remove whitespaces\n",
    "    while \"  \" in question:\n",
    "        question = question.replace(\"  \", \" \")\n",
    "    return question.strip()"
   ]
  },
  {
   "cell_type": "code",
   "execution_count": 72,
   "metadata": {},
   "outputs": [
    {
     "data": {
      "text/plain": [
       "'last unicorn'"
      ]
     },
     "execution_count": 72,
     "metadata": {},
     "output_type": "execute_result"
    }
   ],
   "source": [
    "shorten_question_for_predicate_similarity(chunked[2], \"lol\")"
   ]
  },
  {
   "cell_type": "markdown",
   "metadata": {},
   "source": [
    "# Build Graph"
   ]
  },
  {
   "cell_type": "code",
   "execution_count": null,
   "metadata": {},
   "outputs": [],
   "source": [
    "import networkx as nx\n",
    "def build_graph(context, statements, turn = 1, qa=False):\n",
    "    if not context:\n",
    "        context = nx.Graph()\n",
    "\n",
    "    # print statements\n",
    "    for statement in statements:\n",
    "        # add the entity and object node\n",
    "        if not statement['entity']['id'] in context:\n",
    "            context.add_node(statement['entity']['id'], type='entity', turn=turn, qa=qa)\n",
    "        if not statement['object']['id'] in context:\n",
    "            context.add_node(statement['object']['id'], type='entity', turn=turn, qa=qa)\n",
    "\n",
    "        # get current index of predicate used\n",
    "        if not cx.gp.predicate_nodes.get(statement['predicate']['id']):\n",
    "            # the predicate did not occur yet => index 0 and new entry\n",
    "            cx.gp.predicate_nodes[statement['predicate']['id']] = 1\n",
    "            predicate_index = 0\n",
    "        else:\n",
    "            # the predicate already occured => fetch the next index available and increase the saved one\n",
    "            predicate_index = cx.gp.predicate_nodes[statement['predicate']['id']]\n",
    "            cx.gp.predicate_nodes[statement['predicate']['id']] += 1\n",
    "\n",
    "        # add the predicate node\n",
    "        predicate_node_id = (statement['predicate']['id'] + \"-\" + str(predicate_index))\n",
    "        context.add_node(predicate_node_id, type='predicate', turn=turn)\n",
    "\n",
    "        # add the two edges (entity->predicate->object)\n",
    "        context.add_edge(statement['entity']['id'], predicate_node_id)\n",
    "        context.add_edge(predicate_node_id, statement['object']['id'])\n",
    "\n",
    "        # if there were qualifiers occuring in the statement\n",
    "        if statement.get('qualifiers'):\n",
    "            for qualifier_statement in statement['qualifiers']:\n",
    "                # add the qualifier_statment object\n",
    "                if not qualifier_statement['qualifier_object']['id'] in context:\n",
    "                    context.add_node(qualifier_statement['qualifier_object']['id'], type='entity', turn=turn, qa=qa)\n",
    "\n",
    "                # get current index of qualifier_predicate used\n",
    "                if not qualifier_predicate_nodes.get(qualifier_statement['qualifier_predicate']['id']):\n",
    "                    # the qualifier_predicate did not occur yet => index 0 and new entry\n",
    "                    qualifier_predicate_nodes[qualifier_statement['qualifier_predicate']['id']] = 1\n",
    "                    predicate_index = 0\n",
    "                else:\n",
    "                    # the qualifier_predicate already occured => fetch the next index available and increase the saved one\n",
    "                    predicate_index = qualifier_predicate_nodes[qualifier_statement['qualifier_predicate']['id']]\n",
    "                    qualifier_predicate_nodes[qualifier_statement['qualifier_predicate']['id']] += 1\n",
    "\n",
    "                # add the qualifier_predicate\n",
    "                qualifier_predicate_node_id = qualifier_statement['qualifier_predicate']['id'] + \"-\" + str(predicate_index)\n",
    "                context.add_node(qualifier_predicate_node_id, type='qualifier_predicate', turn=turn)\n",
    "\n",
    "                # add the two edges (qualifier_entity->qualifier_predicate->qualifier_object)\n",
    "                context.add_edge(predicate_node_id, qualifier_predicate_node_id)\n",
    "                context.add_edge(qualifier_predicate_node_id, qualifier_statement['qualifier_object']['id'])\n",
    "    return context"
   ]
  },
  {
   "cell_type": "code",
   "execution_count": null,
   "metadata": {},
   "outputs": [],
   "source": []
  },
  {
   "cell_type": "code",
   "execution_count": null,
   "metadata": {},
   "outputs": [],
   "source": [
    "turn = 1\n",
    "highest_matching_similarity = -1\n",
    "\n",
    "for entity in entities:\n",
    "    result = {}\n",
    "    shortened_question = shorten_question_for_predicate_similarity(question, entity['spot'])\n",
    "    statements = cx.wd.get_all_statements_of_entity(entity['wikidata_id'])\n",
    "    matching_similarity = \"\"\n",
    "    for statement in statements:\n",
    "        # no identifier predicates\n",
    "        if statement['predicate']['id'] in cx.identifier_predicates:\n",
    "            continue\n",
    "        predicate_label = cx.wd.wikidata_id_to_label(statement['predicate']['id'])\n",
    "        matching_similarity = cx.spacy.similarity_word2vec(predicate_label, shortened_question) * entity['link_probability']\n",
    "        if highest_matching_similarity == -1 or matching_similarity > highest_matching_similarity:\n",
    "            answer = statement['entity']['id'] if statement['object']['id'] == entity['wikidata_id'] else statement['object']['id']\n",
    "            context = {'entity': {'id': entity['wikidata_id']}, 'predicate': {'id': statement['predicate']['id']}, 'object': {'id': answer}}\n",
    "            result = {'context': context, 'answers': [{'answer': answer, 'rank': 1}] }\n",
    "            highest_matching_similarity = matching_similarity\n",
    "        \n",
    "        print(\"START\")\n",
    "        print(statement)\n",
    "        print(predicate_label)\n",
    "        print(shortened_question)\n",
    "        print(entity['link_probability'])\n",
    "        print(matching_similarity)\n",
    "        print(\"END\")\n",
    "        \n",
    "    print(matching_similarity, highest_matching_similarity)\n",
    "    print(entity)\n",
    "    print(shortened_question)\n",
    "    \n",
    "    #print(statements)\n",
    "    pprint(result)"
   ]
  },
  {
   "cell_type": "code",
   "execution_count": null,
   "metadata": {},
   "outputs": [],
   "source": [
    "import networkx as nx\n",
    "def expand_context_with_statements(context, statements, turn = 1, qa=False):\n",
    "    if not context:\n",
    "        context = nx.Graph()\n",
    "\n",
    "    # print statements\n",
    "    for statement in statements:\n",
    "        # add the entity and object node\n",
    "        if not statement['entity']['id'] in context:\n",
    "            context.add_node(statement['entity']['id'], type='entity', turn=turn, qa=qa)\n",
    "        if not statement['object']['id'] in context:\n",
    "            context.add_node(statement['object']['id'], type='entity', turn=turn, qa=qa)\n",
    "\n",
    "        # get current index of predicate used\n",
    "        if not cx.gp.predicate_nodes.get(statement['predicate']['id']):\n",
    "            # the predicate did not occur yet => index 0 and new entry\n",
    "            cx.gp.predicate_nodes[statement['predicate']['id']] = 1\n",
    "            predicate_index = 0\n",
    "        else:\n",
    "            # the predicate already occured => fetch the next index available and increase the saved one\n",
    "            predicate_index = cx.gp.predicate_nodes[statement['predicate']['id']]\n",
    "            cx.gp.predicate_nodes[statement['predicate']['id']] += 1\n",
    "\n",
    "        # add the predicate node\n",
    "        predicate_node_id = (statement['predicate']['id'] + \"-\" + str(predicate_index))\n",
    "        context.add_node(predicate_node_id, type='predicate', turn=turn)\n",
    "\n",
    "        # add the two edges (entity->predicate->object)\n",
    "        context.add_edge(statement['entity']['id'], predicate_node_id)\n",
    "        context.add_edge(predicate_node_id, statement['object']['id'])\n",
    "\n",
    "        # if there were qualifiers occuring in the statement\n",
    "        if statement.get('qualifiers'):\n",
    "            for qualifier_statement in statement['qualifiers']:\n",
    "                # add the qualifier_statment object\n",
    "                if not qualifier_statement['qualifier_object']['id'] in context:\n",
    "                    context.add_node(qualifier_statement['qualifier_object']['id'], type='entity', turn=turn, qa=qa)\n",
    "\n",
    "                # get current index of qualifier_predicate used\n",
    "                if not qualifier_predicate_nodes.get(qualifier_statement['qualifier_predicate']['id']):\n",
    "                    # the qualifier_predicate did not occur yet => index 0 and new entry\n",
    "                    qualifier_predicate_nodes[qualifier_statement['qualifier_predicate']['id']] = 1\n",
    "                    predicate_index = 0\n",
    "                else:\n",
    "                    # the qualifier_predicate already occured => fetch the next index available and increase the saved one\n",
    "                    predicate_index = qualifier_predicate_nodes[qualifier_statement['qualifier_predicate']['id']]\n",
    "                    qualifier_predicate_nodes[qualifier_statement['qualifier_predicate']['id']] += 1\n",
    "\n",
    "                # add the qualifier_predicate\n",
    "                qualifier_predicate_node_id = qualifier_statement['qualifier_predicate']['id'] + \"-\" + str(predicate_index)\n",
    "                context.add_node(qualifier_predicate_node_id, type='qualifier_predicate', turn=turn)\n",
    "\n",
    "                # add the two edges (qualifier_entity->qualifier_predicate->qualifier_object)\n",
    "                context.add_edge(predicate_node_id, qualifier_predicate_node_id)\n",
    "                context.add_edge(qualifier_predicate_node_id, qualifier_statement['qualifier_object']['id'])\n",
    "    return context"
   ]
  },
  {
   "cell_type": "markdown",
   "metadata": {},
   "source": [
    "# Algo\n",
    "\n",
    "- Chunk the sentence into potential important multi-words\n",
    "    - For each chunk get ids\n",
    "        - Save the nodes into potential themes\n",
    "    - For each rejected chunks from idendification\n",
    "        - Check if W statement\n",
    "            - Identify the related query word\n",
    "- Identify the predicates from sentence\n",
    "    - Check heads of the predicate\n",
    "        - Get the NN and NNP\n",
    "    - Query predicate id with predicate + query word from wikidata live\n",
    "    - Apply predicate to query"
   ]
  },
  {
   "cell_type": "code",
   "execution_count": 16,
   "metadata": {},
   "outputs": [
    {
     "data": {
      "text/plain": [
       "[('Which', actor, 'WDT', 'DET', ''),\n",
       " ('actor', voiced, 'NN', 'NOUN', ''),\n",
       " ('voiced', voiced, 'VBD', 'VERB', ''),\n",
       " ('the', Unicorn, 'DT', 'DET', ''),\n",
       " ('Unicorn', voiced, 'NNP', 'PROPN', ''),\n",
       " ('in', voiced, 'IN', 'ADP', ''),\n",
       " ('The', Unicorn, 'DT', 'DET', ''),\n",
       " ('Last', Unicorn, 'JJ', 'ADJ', ''),\n",
       " ('Unicorn', in, 'NNP', 'PROPN', ''),\n",
       " ('?', voiced, '.', 'PUNCT', '')]"
      ]
     },
     "execution_count": 16,
     "metadata": {},
     "output_type": "execute_result"
    }
   ],
   "source": [
    "[(token.text,token.head, token.tag_, token.pos_, token.ent_kb_id_) for token in nlp(questions[0])]"
   ]
  },
  {
   "cell_type": "code",
   "execution_count": 17,
   "metadata": {},
   "outputs": [],
   "source": [
    "nlp2 = spacy.load(\"/data/users/romain.claret/tm/data2/nlp\")"
   ]
  },
  {
   "cell_type": "code",
   "execution_count": 19,
   "metadata": {},
   "outputs": [],
   "source": [
    "doc2 = nlp2(questions[0])"
   ]
  },
  {
   "cell_type": "code",
   "execution_count": 20,
   "metadata": {},
   "outputs": [
    {
     "ename": "KeyError",
     "evalue": "\"[E001] No component 'entity_linker' found in pipeline. Available names: ['tagger', 'parser', 'ner']\"",
     "output_type": "error",
     "traceback": [
      "\u001b[0;31m---------------------------------------------------------------------------\u001b[0m",
      "\u001b[0;31mKeyError\u001b[0m                                  Traceback (most recent call last)",
      "\u001b[0;32m<ipython-input-20-0c4b5ad3f6d9>\u001b[0m in \u001b[0;36m<module>\u001b[0;34m\u001b[0m\n\u001b[0;32m----> 1\u001b[0;31m \u001b[0mdoc2\u001b[0m \u001b[0;34m=\u001b[0m \u001b[0mnlp\u001b[0m\u001b[0;34m.\u001b[0m\u001b[0mget_pipe\u001b[0m\u001b[0;34m(\u001b[0m\u001b[0;34m\"entity_linker\"\u001b[0m\u001b[0;34m)\u001b[0m\u001b[0;34m(\u001b[0m\u001b[0mdoc2\u001b[0m\u001b[0;34m)\u001b[0m\u001b[0;34m\u001b[0m\u001b[0;34m\u001b[0m\u001b[0m\n\u001b[0m",
      "\u001b[0;32m~/miniconda3/envs/tm/lib/python3.7/site-packages/spacy/language.py\u001b[0m in \u001b[0;36mget_pipe\u001b[0;34m(self, name)\u001b[0m\n\u001b[1;32m    279\u001b[0m             \u001b[0;32mif\u001b[0m \u001b[0mpipe_name\u001b[0m \u001b[0;34m==\u001b[0m \u001b[0mname\u001b[0m\u001b[0;34m:\u001b[0m\u001b[0;34m\u001b[0m\u001b[0;34m\u001b[0m\u001b[0m\n\u001b[1;32m    280\u001b[0m                 \u001b[0;32mreturn\u001b[0m \u001b[0mcomponent\u001b[0m\u001b[0;34m\u001b[0m\u001b[0;34m\u001b[0m\u001b[0m\n\u001b[0;32m--> 281\u001b[0;31m         \u001b[0;32mraise\u001b[0m \u001b[0mKeyError\u001b[0m\u001b[0;34m(\u001b[0m\u001b[0mErrors\u001b[0m\u001b[0;34m.\u001b[0m\u001b[0mE001\u001b[0m\u001b[0;34m.\u001b[0m\u001b[0mformat\u001b[0m\u001b[0;34m(\u001b[0m\u001b[0mname\u001b[0m\u001b[0;34m=\u001b[0m\u001b[0mname\u001b[0m\u001b[0;34m,\u001b[0m \u001b[0mopts\u001b[0m\u001b[0;34m=\u001b[0m\u001b[0mself\u001b[0m\u001b[0;34m.\u001b[0m\u001b[0mpipe_names\u001b[0m\u001b[0;34m)\u001b[0m\u001b[0;34m)\u001b[0m\u001b[0;34m\u001b[0m\u001b[0;34m\u001b[0m\u001b[0m\n\u001b[0m\u001b[1;32m    282\u001b[0m \u001b[0;34m\u001b[0m\u001b[0m\n\u001b[1;32m    283\u001b[0m     \u001b[0;32mdef\u001b[0m \u001b[0mcreate_pipe\u001b[0m\u001b[0;34m(\u001b[0m\u001b[0mself\u001b[0m\u001b[0;34m,\u001b[0m \u001b[0mname\u001b[0m\u001b[0;34m,\u001b[0m \u001b[0mconfig\u001b[0m\u001b[0;34m=\u001b[0m\u001b[0mdict\u001b[0m\u001b[0;34m(\u001b[0m\u001b[0;34m)\u001b[0m\u001b[0;34m)\u001b[0m\u001b[0;34m:\u001b[0m\u001b[0;34m\u001b[0m\u001b[0;34m\u001b[0m\u001b[0m\n",
      "\u001b[0;31mKeyError\u001b[0m: \"[E001] No component 'entity_linker' found in pipeline. Available names: ['tagger', 'parser', 'ner']\""
     ]
    }
   ],
   "source": [
    "doc2 = nlp.get_pipe(\"entity_linker\")(doc2)"
   ]
  },
  {
   "cell_type": "code",
   "execution_count": 18,
   "metadata": {},
   "outputs": [
    {
     "data": {
      "text/plain": [
       "[('Which', actor, 'WDT', 'DET', ''),\n",
       " ('actor', voiced, 'NN', 'NOUN', ''),\n",
       " ('voiced', voiced, 'VBD', 'VERB', ''),\n",
       " ('the', Unicorn, 'DT', 'DET', ''),\n",
       " ('Unicorn', voiced, 'NNP', 'PROPN', ''),\n",
       " ('in', voiced, 'IN', 'ADP', ''),\n",
       " ('The', Unicorn, 'DT', 'DET', ''),\n",
       " ('Last', Unicorn, 'JJ', 'ADJ', ''),\n",
       " ('Unicorn', in, 'NNP', 'PROPN', ''),\n",
       " ('?', voiced, '.', 'PUNCT', '')]"
      ]
     },
     "execution_count": 18,
     "metadata": {},
     "output_type": "execute_result"
    }
   ],
   "source": [
    "[(token.text,token.head, token.tag_, token.pos_, token.ent_kb_id_) for token in nlp2(questions[0])]"
   ]
  },
  {
   "cell_type": "code",
   "execution_count": 21,
   "metadata": {},
   "outputs": [],
   "source": [
    "from spacy.kb import KnowledgeBase"
   ]
  },
  {
   "cell_type": "code",
   "execution_count": 22,
   "metadata": {},
   "outputs": [
    {
     "ename": "TypeError",
     "evalue": "__init__() takes at least 1 positional argument (0 given)",
     "output_type": "error",
     "traceback": [
      "\u001b[0;31m---------------------------------------------------------------------------\u001b[0m",
      "\u001b[0;31mTypeError\u001b[0m                                 Traceback (most recent call last)",
      "\u001b[0;32m<ipython-input-22-fe7699b3ca20>\u001b[0m in \u001b[0;36m<module>\u001b[0;34m\u001b[0m\n\u001b[0;32m----> 1\u001b[0;31m \u001b[0mkb2\u001b[0m \u001b[0;34m=\u001b[0m \u001b[0mKnowledgeBase\u001b[0m\u001b[0;34m(\u001b[0m\u001b[0;34m)\u001b[0m\u001b[0;34m\u001b[0m\u001b[0;34m\u001b[0m\u001b[0m\n\u001b[0m",
      "\u001b[0;32mkb.pyx\u001b[0m in \u001b[0;36mspacy.kb.KnowledgeBase.__init__\u001b[0;34m()\u001b[0m\n",
      "\u001b[0;31mTypeError\u001b[0m: __init__() takes at least 1 positional argument (0 given)"
     ]
    }
   ],
   "source": [
    "kb2 = KnowledgeBase()"
   ]
  },
  {
   "cell_type": "code",
   "execution_count": 34,
   "metadata": {},
   "outputs": [
    {
     "data": {
      "text/plain": [
       "[('Which', ''),\n",
       " ('actor', ''),\n",
       " ('voiced', ''),\n",
       " ('the', ''),\n",
       " ('Unicorn', ''),\n",
       " ('in', ''),\n",
       " ('The', ''),\n",
       " ('Last', ''),\n",
       " ('Unicorn', ''),\n",
       " ('?', '')]"
      ]
     },
     "execution_count": 34,
     "metadata": {},
     "output_type": "execute_result"
    }
   ],
   "source": [
    "[(e.text, e.ent_kb_id_) for e in doc2]"
   ]
  },
  {
   "cell_type": "code",
   "execution_count": 33,
   "metadata": {},
   "outputs": [
    {
     "data": {
      "text/plain": [
       "''"
      ]
     },
     "execution_count": 33,
     "metadata": {},
     "output_type": "execute_result"
    }
   ],
   "source": [
    "doc2[0].ent_kb_id_"
   ]
  },
  {
   "cell_type": "code",
   "execution_count": 35,
   "metadata": {},
   "outputs": [],
   "source": [
    "vocab = nlp2.vocab"
   ]
  },
  {
   "cell_type": "code",
   "execution_count": 36,
   "metadata": {},
   "outputs": [],
   "source": [
    "kb = KnowledgeBase(vocab=vocab, entity_vector_length=64)"
   ]
  },
  {
   "cell_type": "code",
   "execution_count": 37,
   "metadata": {},
   "outputs": [
    {
     "data": {
      "text/plain": [
       "0"
      ]
     },
     "execution_count": 37,
     "metadata": {},
     "output_type": "execute_result"
    }
   ],
   "source": [
    "len(kb)"
   ]
  },
  {
   "cell_type": "code",
   "execution_count": null,
   "metadata": {},
   "outputs": [],
   "source": [
    "kb.load_bulk(\"/data/users/romain.claret/tm/data2/\")"
   ]
  },
  {
   "cell_type": "code",
   "execution_count": 2,
   "metadata": {},
   "outputs": [],
   "source": [
    "dir_kb = \"/data/users/romain.claret/tm/data2/\"\n",
    "KB_FILE = \"kb\"\n",
    "KB_MODEL_DIR = \"nlp_kb\"\n",
    "OUTPUT_MODEL_DIR = \"nlp\"\n",
    "\n",
    "nlp_dir = dir_kb + OUTPUT_MODEL_DIR\n",
    "kb_path = dir_kb + KB_FILE"
   ]
  },
  {
   "cell_type": "code",
   "execution_count": 4,
   "metadata": {},
   "outputs": [],
   "source": [
    "import spacy\n",
    "nlp_kb = spacy.load(nlp_dir)"
   ]
  },
  {
   "cell_type": "code",
   "execution_count": 9,
   "metadata": {},
   "outputs": [],
   "source": [
    "import logging\n",
    "logger = logging.getLogger(__name__)\n",
    "text = (\n",
    "        \"In The Hitchhiker's Guide to the Galaxy, written by Douglas Adams, \"\n",
    "        \"Douglas reminds us to always bring our towel, even in China or Brazil. \"\n",
    "        \"The main character in Doug's novel is the man Arthur Dent, \"\n",
    "        \"but Dougledydoug doesn't write about George Washington or Homer Simpson.\"\n",
    "    )\n",
    "doc = nlp_kb(text)\n",
    "logger.info(text)\n",
    "for ent in doc.ents:\n",
    "    logger.info(\" \".join([\"ent\", ent.text, ent.label_, ent.kb_id_]))"
   ]
  },
  {
   "cell_type": "code",
   "execution_count": 10,
   "metadata": {},
   "outputs": [
    {
     "data": {
      "text/plain": [
       "['ent', 'Homer Simpson', 'PERSON', 'Q7810']"
      ]
     },
     "execution_count": 10,
     "metadata": {},
     "output_type": "execute_result"
    }
   ],
   "source": [
    "[\"ent\", ent.text, ent.label_, ent.kb_id_]"
   ]
  },
  {
   "cell_type": "code",
   "execution_count": 11,
   "metadata": {},
   "outputs": [
    {
     "data": {
      "text/plain": [
       "(Douglas Adams,\n",
       " Douglas,\n",
       " China,\n",
       " Brazil,\n",
       " Doug,\n",
       " Arthur Dent,\n",
       " Dougledydoug,\n",
       " George Washington,\n",
       " Homer Simpson)"
      ]
     },
     "execution_count": 11,
     "metadata": {},
     "output_type": "execute_result"
    }
   ],
   "source": [
    "doc.ents"
   ]
  },
  {
   "cell_type": "code",
   "execution_count": 38,
   "metadata": {},
   "outputs": [
    {
     "data": {
      "text/plain": [
       "[('Federrer', 'PERSON', 'NIL'), ('Roland Garros', 'ORG', 'Q207709')]"
      ]
     },
     "execution_count": 38,
     "metadata": {},
     "output_type": "execute_result"
    }
   ],
   "source": [
    "doc2 = nlp_kb(\"Who played against Federrer at Roland Garros\")\n",
    "[(ent.text, ent.label_, ent.kb_id_) for ent in doc2.ents]"
   ]
  },
  {
   "cell_type": "code",
   "execution_count": 40,
   "metadata": {},
   "outputs": [
    {
     "data": {
      "text/plain": [
       "[('Mickey Mouse', 'PERSON', 'Q11934')]"
      ]
     },
     "execution_count": 40,
     "metadata": {},
     "output_type": "execute_result"
    }
   ],
   "source": [
    "doc2 = nlp_kb(\"Who voiced Mickey Mouse\")\n",
    "[(ent.text, ent.label_, ent.kb_id_) for ent in doc2.ents]"
   ]
  },
  {
   "cell_type": "code",
   "execution_count": 44,
   "metadata": {},
   "outputs": [
    {
     "data": {
      "text/plain": [
       "[]"
      ]
     },
     "execution_count": 44,
     "metadata": {},
     "output_type": "execute_result"
    }
   ],
   "source": [
    "doc2 = nlp_kb(\"Who voiced the Unicorn in The Matrix\")\n",
    "[(ent.text, ent.label_, ent.kb_id_) for ent in doc2.ents]"
   ]
  },
  {
   "cell_type": "code",
   "execution_count": null,
   "metadata": {},
   "outputs": [],
   "source": []
  }
 ],
 "metadata": {
  "kernelspec": {
   "display_name": "Python [conda env:tm] *",
   "language": "python",
   "name": "conda-env-tm-py"
  },
  "language_info": {
   "codemirror_mode": {
    "name": "ipython",
    "version": 3
   },
   "file_extension": ".py",
   "mimetype": "text/x-python",
   "name": "python",
   "nbconvert_exporter": "python",
   "pygments_lexer": "ipython3",
   "version": "3.7.4"
  }
 },
 "nbformat": 4,
 "nbformat_minor": 2
}
