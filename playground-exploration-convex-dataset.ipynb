{
 "cells": [
  {
   "cell_type": "code",
   "execution_count": 1,
   "metadata": {},
   "outputs": [],
   "source": [
    "import json"
   ]
  },
  {
   "cell_type": "code",
   "execution_count": 2,
   "metadata": {},
   "outputs": [],
   "source": [
    "conversations_path = \"/data/users/romain.claret/tm/mse.tm.chatbot.base/data/convex/test_set/test_set_ALL.json\"\n",
    "with open(conversations_path, \"r\") as data:\n",
    "    conversations = json.load(data)"
   ]
  },
  {
   "cell_type": "code",
   "execution_count": null,
   "metadata": {},
   "outputs": [],
   "source": [
    "{ each['obj_id'] : each for each in ds }.values()"
   ]
  },
  {
   "cell_type": "code",
   "execution_count": 48,
   "metadata": {},
   "outputs": [
    {
     "name": "stdout",
     "output_type": "stream",
     "text": [
      "duplicate: {0: {'answer': 'https://www.wikidata.org/wiki/Q838742', 'answer_text': 'E-I-E-I-(Annoyed Grunt)'}, 1: {'answer': '11', 'answer_text': '11'}, 2: {'answer': 'https://www.wikidata.org/wiki/Q3106628', 'answer_text': 'Ian Maxtone-Graham'}, 3: {'answer': '7 November 1999', 'answer_text': '7 November 1999'}, 4: {'answer': 'https://www.wikidata.org/wiki/Q129577', 'answer_text': 'Treehouse of Horror X'}}\n",
      "[{0: {'answer': 'https://www.wikidata.org/wiki/Q276028', 'answer_text': 'Frances Eliza Hodgson Burnett'}, 1: {'answer': 'https://www.wikidata.org/wiki/Q163', 'answer_text': 'Yorkshire'}, 2: {'answer': '1910', 'answer_text': '1910'}, 3: {'answer': 'https://www.wikidata.org/wiki/Q1436734', 'answer_text': 'Adventure'}, 4: {'answer': 'https://www.wikidata.org/wiki/Q3985643', 'answer_text': 'The American Magazine'}}, {0: {'answer': 'https://www.wikidata.org/wiki/Q23589', 'answer_text': 'Showtime'}, 1: {'answer': '2007', 'answer_text': '2007'}, 2: {'answer': 'https://www.wikidata.org/wiki/Q203268', 'answer_text': 'Michael C. Hall'}, 3: {'answer': '8', 'answer_text': '8'}, 4: {'answer': 'https://www.wikidata.org/wiki/Q8652', 'answer_text': 'Miami'}}, {0: {'answer': '13 June 1978', 'answer_text': '13 June 1978'}, 1: {'answer': 'https://www.wikidata.org/wiki/Q80938', 'answer_text': 'John Travolta'}, 2: {'answer': 'https://www.wikidata.org/wiki/Q185165', 'answer_text': 'Olivia Newton-John'}, 3: {'answer': 'https://www.wikidata.org/wiki/Q1340565', 'answer_text': 'Randal Kleiser'}, 4: {'answer': 'https://www.wikidata.org/wiki/Q1138932', 'answer_text': 'Grease 2'}}, {0: {'answer': 'https://www.wikidata.org/wiki/Q4985', 'answer_text': 'Herman Melville'}, 1: {'answer': '1 August 1819', 'answer_text': '1 August 1819'}, 2: {'answer': 'https://www.wikidata.org/wiki/Q11299', 'answer_text': 'Manhattan'}, 3: {'answer': '1851', 'answer_text': '1851'}, 4: {'answer': 'yes', 'answer_text': 'yes'}}, {0: {'answer': 'https://www.wikidata.org/wiki/Q484523', 'answer_text': 'Jared Leto'}, 1: {'answer': '1998', 'answer_text': '1998'}, 2: {'answer': 'https://www.wikidata.org/wiki/Q49451', 'answer_text': 'Progressive rock'}, 3: {'answer': 'https://www.wikidata.org/wiki/Q38903', 'answer_text': 'Universal Music Group'}, 4: {'answer': '2018', 'answer_text': '2018'}}, {0: {'answer': '1994', 'answer_text': '1994'}, 1: {'answer': 'https://www.wikidata.org/wiki/Q32522', 'answer_text': 'Jennifer Aniston'}, 2: {'answer': 'https://www.wikidata.org/wiki/Q58912', 'answer_text': 'Courteney Cox'}, 3: {'answer': 'https://www.wikidata.org/wiki/Q186896', 'answer_text': 'Matt LeBlanc'}, 4: {'answer': 'https://www.wikidata.org/wiki/Q188792', 'answer_text': 'David Schwimmer'}}, {0: {'answer': '2005', 'answer_text': '2005'}, 1: {'answer': 'https://www.wikidata.org/wiki/Q185051', 'answer_text': 'Christopher Walken'}, 2: {'answer': 'yes', 'answer_text': 'yes'}, 3: {'answer': 'https://www.wikidata.org/wiki/Q607615', 'answer_text': 'David Dobkin'}, 4: {'answer': 'yes', 'answer_text': 'yes'}}, {0: {'answer': 'https://www.wikidata.org/wiki/Q429828', 'answer_text': 'Meredith Grey'}, 1: {'answer': 'https://www.wikidata.org/wiki/Q941961', 'answer_text': 'Derek Shepherd'}, 2: {'answer': 'https://www.wikidata.org/wiki/Q9385011', 'answer_text': 'Neurosurgeon'}, 3: {'answer': 'n/a', 'answer_text': 'Head of general surgery'}, 4: {'answer': 'https://www.wikidata.org/wiki/Q61037771', 'answer_text': 'Car accident'}}, {0: {'answer': 'https://www.wikidata.org/wiki/Q169889', 'answer_text': 'American Broadcasting Company'}, 1: {'answer': '12 October 1943', 'answer_text': '12 October 1943'}, 2: {'answer': 'https://www.wikidata.org/wiki/Q185554', 'answer_text': 'Matthew Fox'}, 3: {'answer': 'https://www.wikidata.org/wiki/Q2222550', 'answer_text': 'Abington Township'}, 4: {'answer': 'https://www.wikidata.org/wiki/Q310556;https://www.wikidata.org/wiki/Q188137;https://www.wikidata.org/wiki/Q376260', 'answer_text': 'Damon Lindelof;J. J. Abrams;Jeffrey Lieber'}}, {0: {'answer': '1900', 'answer_text': '1900'}, 1: {'answer': 'https://www.wikidata.org/wiki/Q207544', 'answer_text': 'L. Frank Baum'}, 2: {'answer': 'https://www.wikidata.org/wiki/Q5541948', 'answer_text': 'George M. Hill Company'}, 3: {'answer': 'https://www.wikidata.org/wiki/Q1364808', 'answer_text': 'William Wallace Denslow'}, 4: {'answer': 'https://www.wikidata.org/wiki/Q1659447', 'answer_text': 'The Marvelous Land of Oz'}}, {0: {'answer': '30 January 1991', 'answer_text': '30 January 1991'}, 1: {'answer': 'https://www.wikidata.org/wiki/Q48987', 'answer_text': 'Jonathan Demme'}, 2: {'answer': 'https://www.wikidata.org/wiki/Q721671', 'answer_text': 'Ted Tally'}, 3: {'answer': 'https://www.wikidata.org/wiki/Q41351', 'answer_text': 'Jodie Foster'}, 4: {'answer': 'https://www.wikidata.org/wiki/Q65932', 'answer_text': 'Anthony Hopkins'}}, {0: {'answer': 'https://www.wikidata.org/wiki/Q842256', 'answer_text': 'Musical'}, 1: {'answer': 'https://www.wikidata.org/wiki/Q41173', 'answer_text': 'Demi Lovato'}, 2: {'answer': '20 August 1992', 'answer_text': '20 August 1992'}, 3: {'answer': '20 June 2008', 'answer_text': '20 June 2008'}, 4: {'answer': 'https://www.wikidata.org/wiki/Q276279', 'answer_text': 'Camp Rock 2: The Final Jam'}}, {0: {'answer': 'https://www.wikidata.org/wiki/Q838742', 'answer_text': 'E-I-E-I-(Annoyed Grunt)'}, 1: {'answer': '11', 'answer_text': '11'}, 2: {'answer': 'https://www.wikidata.org/wiki/Q3106628', 'answer_text': 'Ian Maxtone-Graham'}, 3: {'answer': '7 November 1999', 'answer_text': '7 November 1999'}, 4: {'answer': 'https://www.wikidata.org/wiki/Q129577', 'answer_text': 'Treehouse of Horror X'}}, {0: {'answer': 'https://www.wikidata.org/wiki/Q80955', 'answer_text': 'Santos F.C.'}, 1: {'answer': '23 October 1940', 'answer_text': '23 October 1940'}, 2: {'answer': 'https://www.wikidata.org/wiki/Q6865965', 'answer_text': 'Minister for Sport and the Olympics'}, 3: {'answer': 'https://www.wikidata.org/wiki/Q1439211', 'answer_text': 'Três Corações'}, 4: {'answer': '1958', 'answer_text': '1958'}}]\n"
     ]
    }
   ],
   "source": [
    "unique_conversations = []\n",
    "\n",
    "for i_c, conversation in enumerate(conversations):\n",
    "    #for question in conversation:\n",
    "    #print(conversation)\n",
    "    tmp_conv = {}\n",
    "    for question in conversation[\"questions\"]:\n",
    "        tmp_quest = {}\n",
    "        #turn = question['turn']\n",
    "        #tmp_quest[\"question\"] = question['question']\n",
    "        tmp_quest[\"answer\"] = question['answer']\n",
    "        tmp_quest[\"answer_text\"] = question['answer_text']\n",
    "        tmp_conv[question['turn']] = tmp_quest\n",
    "    \n",
    "    if tmp_conv not in unique_conversations:\n",
    "        unique_conversations.append(tmp_conv)\n",
    "    else:\n",
    "        print(\"duplicate:\",tmp_conv)\n",
    "        break\n",
    "    \n",
    "    #if i_c > 2000:\n",
    "    #    break\n",
    "    \n",
    "print(unique_conversations)\n",
    "    \n",
    "    "
   ]
  },
  {
   "cell_type": "code",
   "execution_count": 34,
   "metadata": {},
   "outputs": [
    {
     "data": {
      "text/plain": [
       "True"
      ]
     },
     "execution_count": 34,
     "metadata": {},
     "output_type": "execute_result"
    }
   ],
   "source": [
    "unique_conversations == unique_conversations"
   ]
  },
  {
   "cell_type": "code",
   "execution_count": 40,
   "metadata": {},
   "outputs": [
    {
     "name": "stdout",
     "output_type": "stream",
     "text": [
      "{0: {'question': 'What is the name of the writer of The Secret Garden?', 'answer': 'https://www.wikidata.org/wiki/Q276028', 'answer_text': 'Frances Eliza Hodgson Burnett'}, 1: {'question': 'Where does the story take place?', 'answer': 'https://www.wikidata.org/wiki/Q163', 'answer_text': 'Yorkshire'}, 2: {'question': 'When was the book published?', 'answer': '1910', 'answer_text': '1910'}, 3: {'question': 'What kind of book is it?', 'answer': 'https://www.wikidata.org/wiki/Q1436734', 'answer_text': 'Adventure'}, 4: {'question': 'What magazine first published the book?', 'answer': 'https://www.wikidata.org/wiki/Q3985643', 'answer_text': 'The American Magazine'}}\n",
      "{0: {'question': 'What network was Dexter on?', 'answer': 'https://www.wikidata.org/wiki/Q23589', 'answer_text': 'Showtime'}, 1: {'question': 'Year of debut?', 'answer': '2007', 'answer_text': '2007'}, 2: {'question': 'Who starred in it?', 'answer': 'https://www.wikidata.org/wiki/Q203268', 'answer_text': 'Michael C. Hall'}, 3: {'question': 'How many season was it?', 'answer': '8', 'answer_text': '8'}, 4: {'question': 'What was the main location of it?', 'answer': 'https://www.wikidata.org/wiki/Q8652', 'answer_text': 'Miami'}}\n",
      "{0: {'question': 'When did the movie Grease come out?', 'answer': '13 June 1978', 'answer_text': '13 June 1978'}, 1: {'question': 'Who play Danny Zuko?', 'answer': 'https://www.wikidata.org/wiki/Q80938', 'answer_text': 'John Travolta'}, 2: {'question': 'Which actress played Sandy?', 'answer': 'https://www.wikidata.org/wiki/Q185165', 'answer_text': 'Olivia Newton-John'}, 3: {'question': 'Who is the director?', 'answer': 'https://www.wikidata.org/wiki/Q1340565', 'answer_text': 'Randal Kleiser'}, 4: {'question': 'What is the name of the second moive?', 'answer': 'https://www.wikidata.org/wiki/Q1138932', 'answer_text': 'Grease 2'}}\n",
      "{0: {'question': 'Who is the author that wrote the book Moby-Dick?', 'answer': 'https://www.wikidata.org/wiki/Q4985', 'answer_text': 'Herman Melville'}, 1: {'question': 'When was he born?', 'answer': '1 August 1819', 'answer_text': '1 August 1819'}, 2: {'question': 'And where is he from originally?', 'answer': 'https://www.wikidata.org/wiki/Q11299', 'answer_text': 'Manhattan'}, 3: {'question': 'When was the novel first released?', 'answer': '1851', 'answer_text': '1851'}, 4: {'question': 'Did they make a movie based on the book?', 'answer': 'yes', 'answer_text': 'yes'}}\n"
     ]
    }
   ],
   "source": [
    "for uc in unique_conversations:\n",
    "    print(uc)"
   ]
  },
  {
   "cell_type": "code",
   "execution_count": null,
   "metadata": {},
   "outputs": [],
   "source": []
  }
 ],
 "metadata": {
  "kernelspec": {
   "display_name": "Python [conda env:qa]",
   "language": "python",
   "name": "conda-env-qa-py"
  },
  "language_info": {
   "codemirror_mode": {
    "name": "ipython",
    "version": 3
   },
   "file_extension": ".py",
   "mimetype": "text/x-python",
   "name": "python",
   "nbconvert_exporter": "python",
   "pygments_lexer": "ipython3",
   "version": "3.7.5"
  }
 },
 "nbformat": 4,
 "nbformat_minor": 2
}
