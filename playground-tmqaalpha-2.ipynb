{
 "cells": [
  {
   "cell_type": "code",
   "execution_count": 1,
   "metadata": {},
   "outputs": [],
   "source": [
    "import tmqaalpha2 as tm2"
   ]
  },
  {
   "cell_type": "code",
   "execution_count": 2,
   "metadata": {},
   "outputs": [
    {
     "name": "stdout",
     "output_type": "stream",
     "text": [
      "Q13133\n",
      "['Michelle Obama', 'Carloman of Bavaria']\n"
     ]
    }
   ],
   "source": [
    "answer = tm2.answer_question(\"Who is the wife of Barack Obama?\")\n",
    "\n",
    "print(answer[0][0])\n",
    "if answer: print([tm2.get_wd_label(h[0]) for i,h in enumerate(answer)])"
   ]
  },
  {
   "cell_type": "code",
   "execution_count": 2,
   "metadata": {},
   "outputs": [
    {
     "name": "stdout",
     "output_type": "stream",
     "text": [
      "Who is the wife of Barack Obama?\n",
      "Top 1: Michelle Obama (Q13133)\n",
      "Top n: [('Michelle Obama', 'Q13133', 0.06268986384069578), ('Carloman of Bavaria', 'Q157084', 0.007660066609466808), ('Billy Strachan', 'Q18531596', 0.007660066609466808)]\n",
      "\n",
      "\n",
      "Which actor voiced the Unicorn in The Last Unicorn?\n",
      "Top 1: Mia Farrow (Q202725)\n",
      "Top n: [('Mia Farrow', 'Q202725', 7.506023737745405e-08)]\n",
      "\n",
      "\n",
      "what city was alex golfis born in\n",
      "I don't know\n",
      "\n",
      "\n",
      "what was the cause of death of yves klein\n",
      "Top 1: dying (Q267505)\n",
      "Top n: [('dying', 'Q267505', 0.0)]\n",
      "\n",
      "\n",
      "Who is the president of the United States?\n",
      "Top 1: Directive Principles in India (Q3345469)\n",
      "Top n: [('Directive Principles in India', 'Q3345469', 0.013377241425285574)]\n",
      "\n",
      "\n",
      "When was produced the first Matrix movie?\n",
      "I don't know\n",
      "\n",
      "\n",
      "Who made the soundtrack of the The Last Unicorn movie?\n",
      "I don't know\n",
      "\n",
      "\n",
      "Who is the author of Le Petit Prince?\n",
      "I don't know\n",
      "\n",
      "\n",
      "how is called the rabbit in Alice in Wonderland?\n",
      "Top 1:  (2015-06-27T00:00:00Z)\n",
      "Top n: [('', '2015-06-27T00:00:00Z', 0.0015380841029870378)]\n",
      "\n",
      "\n"
     ]
    }
   ],
   "source": [
    "questions = (\n",
    "    \"Who is the wife of Barack Obama?\",\n",
    "    \"Which actor voiced the Unicorn in The Last Unicorn?\",\n",
    "    \"what city was alex golfis born in\",\n",
    "    \"what was the cause of death of yves klein\",\n",
    "    \"Who is the president of the United States?\",\n",
    "    \"When was produced the first Matrix movie?\",\n",
    "    \"Who made the soundtrack of the The Last Unicorn movie?\",\n",
    "    \"Who is the author of Le Petit Prince?\",\n",
    "    \"how is called the rabbit in Alice in Wonderland?\"    \n",
    "              )\n",
    "\n",
    "for question in questions:\n",
    "    print(question)\n",
    "    answer = tm2.answer_question(question)\n",
    "    if answer: \n",
    "        print(\"Top 1:\",tm2.get_wd_label(answer[0][0]), \"(\"+str(answer[0][0])+\")\")\n",
    "        print(\"Top n:\",[(tm2.get_wd_label(h[0]), h[0], h[1]) for i,h in enumerate(answer)])\n",
    "    else:\n",
    "        print(\"I don't know\")\n",
    "    print(\"\\n\")"
   ]
  },
  {
   "cell_type": "code",
   "execution_count": null,
   "metadata": {},
   "outputs": [],
   "source": []
  }
 ],
 "metadata": {
  "kernelspec": {
   "display_name": "Python [conda env:qa]",
   "language": "python",
   "name": "conda-env-qa-py"
  },
  "language_info": {
   "codemirror_mode": {
    "name": "ipython",
    "version": 3
   },
   "file_extension": ".py",
   "mimetype": "text/x-python",
   "name": "python",
   "nbconvert_exporter": "python",
   "pygments_lexer": "ipython3",
   "version": "3.7.5"
  }
 },
 "nbformat": 4,
 "nbformat_minor": 2
}
