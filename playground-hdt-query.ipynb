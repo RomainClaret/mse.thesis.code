{
 "cells": [
  {
   "cell_type": "code",
   "execution_count": 13,
   "metadata": {},
   "outputs": [],
   "source": [
    "from hdt import HDTDocument, IdentifierPosition"
   ]
  },
  {
   "cell_type": "code",
   "execution_count": 5,
   "metadata": {},
   "outputs": [],
   "source": [
    "document = HDTDocument(\"data/kb/wikidata2018_09_11.hdt\")"
   ]
  },
  {
   "cell_type": "code",
   "execution_count": 9,
   "metadata": {},
   "outputs": [
    {
     "name": "stdout",
     "output_type": "stream",
     "text": [
      "nb triples: 2935160017\n",
      "nb subjects: 760717318\n",
      "nb predicates: 23387\n",
      "nb objects: 1190479283\n",
      "nb shared subject-object: 643051538\n"
     ]
    }
   ],
   "source": [
    "print(\"nb triples: %i\" % document.total_triples)\n",
    "print(\"nb subjects: %i\" % document.nb_subjects)\n",
    "print(\"nb predicates: %i\" % document.nb_predicates)\n",
    "print(\"nb objects: %i\" % document.nb_objects)\n",
    "print(\"nb shared subject-object: %i\" % document.nb_shared)"
   ]
  },
  {
   "cell_type": "code",
   "execution_count": 8,
   "metadata": {},
   "outputs": [
    {
     "data": {
      "text/plain": [
       "1190479283"
      ]
     },
     "execution_count": 8,
     "metadata": {},
     "output_type": "execute_result"
    }
   ],
   "source": [
    "document.nb_objects"
   ]
  },
  {
   "cell_type": "code",
   "execution_count": 24,
   "metadata": {},
   "outputs": [
    {
     "data": {
      "text/plain": [
       "7609601"
      ]
     },
     "execution_count": 24,
     "metadata": {},
     "output_type": "execute_result"
    }
   ],
   "source": [
    "document.convert_term(\"http://www.wikidata.org/entity/Q176198\", IdentifierPosition.Object)"
   ]
  },
  {
   "cell_type": "code",
   "execution_count": 16,
   "metadata": {},
   "outputs": [],
   "source": [
    "import bz2\n",
    "stream = bz2.BZ2File(\"/data/users/romain.claret/notebooks/tests/CONVEX/latest-all.json.bz2\")"
   ]
  },
  {
   "cell_type": "code",
   "execution_count": 17,
   "metadata": {},
   "outputs": [
    {
     "data": {
      "text/plain": [
       "b'[\\n'"
      ]
     },
     "execution_count": 17,
     "metadata": {},
     "output_type": "execute_result"
    }
   ],
   "source": [
    "stream.readline()"
   ]
  },
  {
   "cell_type": "code",
   "execution_count": 74,
   "metadata": {},
   "outputs": [],
   "source": [
    "#stream.readline()"
   ]
  },
  {
   "cell_type": "code",
   "execution_count": 25,
   "metadata": {},
   "outputs": [],
   "source": [
    "(triples, cardinality) = document.search_triples(\"\", \"\", \"\")"
   ]
  },
  {
   "cell_type": "code",
   "execution_count": 27,
   "metadata": {},
   "outputs": [
    {
     "data": {
      "text/plain": [
       "(<Iterator {?s ?p ?o}>, 7230127313)"
      ]
     },
     "execution_count": 27,
     "metadata": {},
     "output_type": "execute_result"
    }
   ],
   "source": [
    "document.search_triples(\"\", \"\", \"\")"
   ]
  },
  {
   "cell_type": "code",
   "execution_count": 47,
   "metadata": {},
   "outputs": [
    {
     "name": "stdout",
     "output_type": "stream",
     "text": [
      "cardinality of { ?s ?p ?o }: 7\n"
     ]
    }
   ],
   "source": [
    "(triples, cardinality) = document.search_triples(\"\", \"http://schema.org/name\", '\"The Last Unicorn\"@en', limit=10, offset=0)\n",
    "print(\"cardinality of { ?s ?p ?o }: %i\" % cardinality)"
   ]
  },
  {
   "cell_type": "code",
   "execution_count": 51,
   "metadata": {},
   "outputs": [
    {
     "name": "stdout",
     "output_type": "stream",
     "text": [
      "cardinality of { ?s ?p ?o }: 18\n",
      "('http://www.wikidata.org/entity/Q18356448', 'http://schema.org/name', '\"Unicorn\"@en')\n",
      "('http://www.wikidata.org/entity/Q21070472', 'http://schema.org/name', '\"Unicorn\"@en')\n",
      "('http://www.wikidata.org/entity/Q22043340', 'http://schema.org/name', '\"Unicorn\"@en')\n",
      "('http://www.wikidata.org/entity/Q2232878', 'http://schema.org/name', '\"Unicorn\"@en')\n",
      "('http://www.wikidata.org/entity/Q226755', 'http://schema.org/name', '\"Unicorn\"@en')\n",
      "('http://www.wikidata.org/entity/Q3043008', 'http://schema.org/name', '\"Unicorn\"@en')\n",
      "('http://www.wikidata.org/entity/Q31667976', 'http://schema.org/name', '\"Unicorn\"@en')\n",
      "('http://www.wikidata.org/entity/Q3238119', 'http://schema.org/name', '\"Unicorn\"@en')\n",
      "('http://www.wikidata.org/entity/Q3549945', 'http://schema.org/name', '\"Unicorn\"@en')\n",
      "('http://www.wikidata.org/entity/Q3549947', 'http://schema.org/name', '\"Unicorn\"@en')\n"
     ]
    }
   ],
   "source": [
    "(triples, cardinality) = document.search_triples(\"\", \"http://schema.org/name\", '\"Unicorn\"@en', limit=10, offset=0)\n",
    "print(\"cardinality of { ?s ?p ?o }: %i\" % cardinality)\n",
    "for triple in triples:\n",
    "  print(triple)"
   ]
  },
  {
   "cell_type": "code",
   "execution_count": 146,
   "metadata": {},
   "outputs": [
    {
     "name": "stdout",
     "output_type": "stream",
     "text": [
      "cardinality of { ?s ?p ?o }: 2\n",
      "('http://www.wikidata.org/entity/P725', 'http://schema.org/name', '\"voice actor\"@en')\n",
      "('http://www.wikidata.org/entity/Q2405480', 'http://schema.org/name', '\"voice actor\"@en')\n"
     ]
    }
   ],
   "source": [
    "(triples, cardinality) = document.search_triples(\"\", \"http://schema.org/name\", '\"voice actor\"@en', limit=10, offset=0)\n",
    "print(\"cardinality of { ?s ?p ?o }: %i\" % cardinality)\n",
    "for triple in triples:\n",
    "  print(triple)"
   ]
  },
  {
   "cell_type": "code",
   "execution_count": 90,
   "metadata": {},
   "outputs": [
    {
     "name": "stdout",
     "output_type": "stream",
     "text": [
      "cardinality of { ?s ?p ?o }: 6\n",
      "('http://www.wikidata.org/entity/P31', 'http://schema.org/name', '\"instance of\"@en')\n",
      "('http://www.wikidata.org/entity/Q21503252', 'http://schema.org/name', '\"instance of\"@en')\n",
      "('http://www.wikidata.org/entity/P31', 'http://www.w3.org/2000/01/rdf-schema#label', '\"instance of\"@en')\n",
      "('http://www.wikidata.org/entity/Q21503252', 'http://www.w3.org/2000/01/rdf-schema#label', '\"instance of\"@en')\n",
      "('http://www.wikidata.org/entity/P31', 'http://www.w3.org/2004/02/skos/core#prefLabel', '\"instance of\"@en')\n",
      "('http://www.wikidata.org/entity/Q21503252', 'http://www.w3.org/2004/02/skos/core#prefLabel', '\"instance of\"@en')\n"
     ]
    }
   ],
   "source": [
    "(triples, cardinality) = document.search_triples(\"\", \"\", '\"instance of\"@en', limit=50, offset=0)\n",
    "print(\"cardinality of { ?s ?p ?o }: %i\" % cardinality)\n",
    "for triple in triples:\n",
    "  print(triple)"
   ]
  },
  {
   "cell_type": "code",
   "execution_count": 88,
   "metadata": {},
   "outputs": [
    {
     "name": "stdout",
     "output_type": "stream",
     "text": [
      "cardinality of { ?s ?p ?o }: 109\n"
     ]
    },
    {
     "data": {
      "text/plain": [
       "False"
      ]
     },
     "execution_count": 88,
     "metadata": {},
     "output_type": "execute_result"
    }
   ],
   "source": [
    "(triples, cardinality) = document.search_triples(\"http://www.wikidata.org/entity/Q967268\", \"\", 'http://www.wikidata.org/entity/Q202725', offset=0)\n",
    "print(\"cardinality of { ?s ?p ?o }: %i\" % cardinality)\n",
    "#for triple in triples:\n",
    "#  print(triple)\n",
    "\n",
    "triples.has_next()"
   ]
  },
  {
   "cell_type": "code",
   "execution_count": 104,
   "metadata": {},
   "outputs": [
    {
     "name": "stdout",
     "output_type": "stream",
     "text": [
      "cardinality of { ?s ?p ?o }: 1\n",
      "('http://www.wikidata.org/prop/P725', 'http://www.w3.org/1999/02/22-rdf-syntax-ns#type', 'http://www.w3.org/2002/07/owl#ObjectProperty')\n"
     ]
    }
   ],
   "source": [
    "(triples, cardinality) = document.search_triples(\"http://www.wikidata.org/prop/P725\", \"\", '', offset=0)\n",
    "print(\"cardinality of { ?s ?p ?o }: %i\" % cardinality)\n",
    "for triple in triples:\n",
    "  #if \"@en\" in triple[2]:\n",
    "    print(triple)\n",
    "    #pri\n",
    "\n",
    "#triples.has_next()"
   ]
  },
  {
   "cell_type": "code",
   "execution_count": 99,
   "metadata": {},
   "outputs": [
    {
     "name": "stdout",
     "output_type": "stream",
     "text": [
      "cardinality of 85\n",
      "('http://www.wikidata.org/entity/P725', 'http://www.w3.org/2004/02/skos/core#altLabel', '\"CV\"@en')\n",
      "('http://www.wikidata.org/entity/P725', 'http://www.w3.org/2004/02/skos/core#altLabel', '\"VA\"@en')\n",
      "('http://www.wikidata.org/entity/P725', 'http://www.w3.org/2004/02/skos/core#altLabel', '\"VO\"@en')\n",
      "('http://www.wikidata.org/entity/P725', 'http://www.w3.org/2004/02/skos/core#altLabel', '\"dubbed by\"@en')\n",
      "('http://www.wikidata.org/entity/P725', 'http://www.w3.org/2004/02/skos/core#altLabel', '\"seiyu\"@en')\n",
      "('http://www.wikidata.org/entity/P725', 'http://www.w3.org/2004/02/skos/core#altLabel', '\"voice actors\"@en')\n",
      "('http://www.wikidata.org/entity/P725', 'http://www.w3.org/2004/02/skos/core#altLabel', '\"voice actress\"@en')\n",
      "('http://www.wikidata.org/entity/P725', 'http://www.w3.org/2004/02/skos/core#altLabel', '\"voice actresses\"@en')\n",
      "('http://www.wikidata.org/entity/P725', 'http://www.w3.org/2004/02/skos/core#altLabel', '\"voice dubber\"@en')\n",
      "('http://www.wikidata.org/entity/P725', 'http://www.w3.org/2004/02/skos/core#altLabel', '\"voiced by\"@en')\n"
     ]
    }
   ],
   "source": [
    "(triples, cardinality) = document.search_triples(\"http://www.wikidata.org/entity/P725\", \"http://www.w3.org/2004/02/skos/core#altLabel\", '', offset=0)\n",
    "print(\"cardinality of %i\" % cardinality)\n",
    "for triple in triples:\n",
    "  if \"@en\" in triple[2]: print(triple)\n"
   ]
  },
  {
   "cell_type": "code",
   "execution_count": 142,
   "metadata": {},
   "outputs": [
    {
     "name": "stdout",
     "output_type": "stream",
     "text": [
      "cardinality of 2\n",
      "('http://www.wikidata.org/entity/P31', 'http://www.w3.org/1999/02/22-rdf-syntax-ns#type', 'http://www.wikidata.org/prop/novalue/P3254')\n",
      "('http://www.wikidata.org/entity/P31', 'http://www.w3.org/1999/02/22-rdf-syntax-ns#type', 'http://wikiba.se/ontology-beta#Property')\n"
     ]
    }
   ],
   "source": [
    "(triples, cardinality) = document.search_triples(\"http://www.wikidata.org/entity/P31\", \"http://www.w3.org/1999/02/22-rdf-syntax-ns#type\", '', offset=0)\n",
    "print(\"cardinality of %i\" % cardinality)\n",
    "for triple in triples:\n",
    "    print(triple)\n",
    "  #if \"@en\" in triple[2]: print(triple)"
   ]
  },
  {
   "cell_type": "code",
   "execution_count": 134,
   "metadata": {},
   "outputs": [
    {
     "name": "stdout",
     "output_type": "stream",
     "text": [
      "estimated join cardinality : 1\n",
      "{('?s', 'http://www.wikidata.org/entity/P725')}\n"
     ]
    }
   ],
   "source": [
    "# find all actors with their names in the HDT document\n",
    "tp_a = (\"?s\", 'http://www.w3.org/2004/02/skos/core#altLabel', '\"voiced by\"@en')\n",
    "tp_b = (\"?s\", 'http://www.w3.org/2004/02/skos/core#altLabel', '\"voiced by\"@en')\n",
    "iterator = document.search_join([tp_a, tp_b])\n",
    "\n",
    "print(\"estimated join cardinality : %i\" % len(iterator))\n",
    "for mappings in iterator:\n",
    "  print(mappings)"
   ]
  },
  {
   "cell_type": "code",
   "execution_count": 128,
   "metadata": {},
   "outputs": [
    {
     "name": "stdout",
     "output_type": "stream",
     "text": [
      "cardinality of 40042\n"
     ]
    }
   ],
   "source": [
    "(triples, cardinality) = document.search_triples(\"\", \"http://www.w3.org/1999/02/22-rdf-syntax-ns#type\", \"http://www.w3.org/2002/07/owl#ObjectProperty\")\n",
    "print(\"cardinality of %i\" % cardinality)\n",
    "#for triple in triples:\n",
    "#  print(triple)"
   ]
  },
  {
   "cell_type": "code",
   "execution_count": 145,
   "metadata": {},
   "outputs": [
    {
     "name": "stdout",
     "output_type": "stream",
     "text": [
      "cardinality of 1\n"
     ]
    }
   ],
   "source": [
    "(triples, cardinality) = document.search_triples(\"\", 'http://www.w3.org/2004/02/skos/core#altLabel', '\"voiced by\"@en')\n",
    "print(\"cardinality of %i\" % cardinality)"
   ]
  },
  {
   "cell_type": "code",
   "execution_count": 147,
   "metadata": {},
   "outputs": [
    {
     "name": "stdout",
     "output_type": "stream",
     "text": [
      "estimated join cardinality : 0\n"
     ]
    }
   ],
   "source": [
    "# find all actors with their names in the HDT document\n",
    "tp_a = (\"?s\", 'http://www.w3.org/1999/02/22-rdf-syntax-ns#type', 'http://www.wikidata.org/prop/novalue/P3254')\n",
    "tp_b = (\"?s\", \"http://schema.org/name\", '\"voice actor\"@en')\n",
    "\n",
    "iterator = document.search_join([tp_a, tp_b])\n",
    "\n",
    "print(\"estimated join cardinality : %i\" % len(iterator))\n",
    "for mappings in iterator:\n",
    "  print(mappings)"
   ]
  },
  {
   "cell_type": "code",
   "execution_count": 149,
   "metadata": {},
   "outputs": [
    {
     "name": "stdout",
     "output_type": "stream",
     "text": [
      "cardinality of 1\n",
      "('http://www.wikidata.org/entity/Q30060419', 'http://www.w3.org/2004/02/skos/core#altLabel', '\"The Last Unicorn\"@en')\n"
     ]
    }
   ],
   "source": [
    "(triples, cardinality) = document.search_triples(\"\", 'http://www.w3.org/2004/02/skos/core#altLabel', '\"The Last Unicorn\"@en')\n",
    "print(\"cardinality of %i\" % cardinality)\n",
    "for triple in triples:\n",
    "  print(triple)"
   ]
  },
  {
   "cell_type": "code",
   "execution_count": null,
   "metadata": {},
   "outputs": [],
   "source": [
    "#TODO \n",
    "def get_wd_predicate_ids(predicate, top_k=3):\n",
    "    language = \"en\"\n",
    "    word_formated = str(\"\\\"\"+predicate+\"\\\"\"+\"@\"+language)\n",
    "    \n",
    "    print(get_wd_word_ids(predicate, top_k=3, limit=10))\n",
    "    \n",
    "    (triples, cardinality) = hdt_wd.search_triples(\"\", \"http://www.w3.org/1999/02/22-rdf-syntax-ns#type\", \"http://www.wikidata.org/prop/novalue/P3254\")\n",
    "    print(\"cardinality of %i\" % cardinality)\n",
    "    \n",
    "    (triples, cardinality) = hdt_wd.search_triples(\"\", \"http://www.w3.org/1999/02/22-rdf-syntax-ns#type\", 'http://www.w3.org/2002/07/owl#ObjectProperty')\n",
    "    print(\"cardinality of { ?s ?p ?o }: %i\" % cardinality)\n",
    "    \n",
    "    tp_a = (\"?s\", 'http://www.w3.org/1999/02/22-rdf-syntax-ns#type', 'http://www.wikidata.org/prop/novalue/P3254')\n",
    "    tp_b = (\"?s\", \"http://schema.org/name\", '\"voice actor\"@en')\n",
    "\n",
    "    iterator = hdt_wd.search_join([tp_a, tp_b])\n",
    "\n",
    "    print(\"estimated join cardinality : %i\" % len(iterator))\n",
    "    for mappings in iterator:\n",
    "      print(mappings)\n",
    "\n",
    "    return predicate\n",
    "get_wd_predicate_ids(\"voiced\", top_k=3)"
   ]
  }
 ],
 "metadata": {
  "kernelspec": {
   "display_name": "Python [conda env:tm] *",
   "language": "python",
   "name": "conda-env-tm-py"
  },
  "language_info": {
   "codemirror_mode": {
    "name": "ipython",
    "version": 3
   },
   "file_extension": ".py",
   "mimetype": "text/x-python",
   "name": "python",
   "nbconvert_exporter": "python",
   "pygments_lexer": "ipython3",
   "version": "3.7.4"
  }
 },
 "nbformat": 4,
 "nbformat_minor": 2
}
