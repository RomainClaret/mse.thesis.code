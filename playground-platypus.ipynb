{
 "cells": [
  {
   "cell_type": "markdown",
   "metadata": {},
   "source": [
    "# PlatypusQA Query\n",
    "- frontend: http://askplatyp.us\n",
    "- API: http://qa.askplatyp.us/v0\n",
    "- ```shell\n",
    "curl -X GET --header 'Accept: application/json' --header 'Accept-Language: en' 'https://qa.askplatyp.us/v0/ask?q=Where%20is%20the%20Everest%3F&lang=en'```\n",
    "- Questions examples:\n",
    " - Who is the wife of Barack Obama?\n",
    " - What is the music genre of Gorillaz?\n",
    " - Where was Ulysses S. Grant born?\n",
    " - What sport does play Federer?"
   ]
  },
  {
   "cell_type": "code",
   "execution_count": 76,
   "metadata": {},
   "outputs": [
    {
     "data": {
      "text/plain": [
       "False"
      ]
     },
     "execution_count": 76,
     "metadata": {},
     "output_type": "execute_result"
    }
   ],
   "source": [
    "import requests\n",
    "import json\n",
    "\n",
    "headers = {\n",
    "    'Accept': 'application/json',\n",
    "    'Accept-Language': 'en',\n",
    "}\n",
    "\n",
    "params = (\n",
    "    ('q', 'Which actor voiced the Unicorn in The Last Unicorn?'),\n",
    "    ('lang', 'en'),\n",
    ")\n",
    "\n",
    "response = requests.get('https://qa.askplatyp.us/v0/ask', headers=headers, params=params)\n",
    "response.json()['@context'] if response else False"
   ]
  },
  {
   "cell_type": "code",
   "execution_count": 77,
   "metadata": {},
   "outputs": [
    {
     "data": {
      "text/plain": [
       "<Response [504]>"
      ]
     },
     "execution_count": 77,
     "metadata": {},
     "output_type": "execute_result"
    }
   ],
   "source": [
    "response"
   ]
  },
  {
   "cell_type": "code",
   "execution_count": null,
   "metadata": {},
   "outputs": [],
   "source": [
    "if type(response.json()['member']) is list:\n",
    "    print(json.dumps(response.json()['member'][0]['result']['goog:detailedDescription']['name'], indent=2, sort_keys=True))\n",
    "else:\n",
    "    print(json.dumps(response.json()[\"member\"]['result']['goog:detailedDescription']['name'], indent=2, sort_keys=True))"
   ]
  },
  {
   "cell_type": "code",
   "execution_count": null,
   "metadata": {},
   "outputs": [],
   "source": []
  }
 ],
 "metadata": {
  "kernelspec": {
   "display_name": "Python [conda env:tm] *",
   "language": "python",
   "name": "conda-env-tm-py"
  },
  "language_info": {
   "codemirror_mode": {
    "name": "ipython",
    "version": 3
   },
   "file_extension": ".py",
   "mimetype": "text/x-python",
   "name": "python",
   "nbconvert_exporter": "python",
   "pygments_lexer": "ipython3",
   "version": "3.7.4"
  }
 },
 "nbformat": 4,
 "nbformat_minor": 2
}
